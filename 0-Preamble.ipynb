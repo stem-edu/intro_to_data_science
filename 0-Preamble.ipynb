{
 "cells": [
  {
   "cell_type": "markdown",
   "id": "9bd687da-55d2-4275-82d3-ab029f35ec10",
   "metadata": {},
   "source": [
    "By default, python3 is installed on the mac and can be accessed by typing python3 into the terminal."
   ]
  },
  {
   "cell_type": "markdown",
   "id": "08bd01bb-d2a7-446a-ad3b-61508a619685",
   "metadata": {},
   "source": [
    "## Installation guide for brew (package manager for MacOS):"
   ]
  },
  {
   "cell_type": "markdown",
   "id": "eddc720e-c97a-4b59-a98a-2be7b1fdc336",
   "metadata": {},
   "source": [
    "Paste the following into your mac terminal and follow the on-screen instructions, this package manager allows you to download any public software via the mac terminal."
   ]
  },
  {
   "cell_type": "markdown",
   "id": "10098f4a-a60f-479c-b176-38be2832c122",
   "metadata": {},
   "source": [
    "$$\\texttt{ /bin/bash -c \"\\$(curl -fsSL https://raw.githubusercontent.com/Homebrew/install/HEAD/install.sh)\"}$$"
   ]
  },
  {
   "cell_type": "markdown",
   "id": "97af08ec-f143-4040-b36b-5bec975b0bf5",
   "metadata": {},
   "source": [
    "Simply type:"
   ]
  },
  {
   "cell_type": "markdown",
   "id": "cd066bca-3b1f-4045-9db8-98def4c26faa",
   "metadata": {},
   "source": [
    "$$\\texttt{brew install [package name]}$$"
   ]
  },
  {
   "cell_type": "markdown",
   "id": "90bf8c9f-cae0-4c63-bc3e-405cf41680da",
   "metadata": {},
   "source": [
    "## Installation guide for pip (package manager for python3)"
   ]
  },
  {
   "cell_type": "markdown",
   "id": "32665afd-dec8-48f2-ac93-8ddc39fd17ee",
   "metadata": {},
   "source": [
    "Open up your mac terminal and your home directory and paste the following"
   ]
  },
  {
   "cell_type": "markdown",
   "id": "3f1ec030-29a7-4370-880f-cea68017eef2",
   "metadata": {},
   "source": [
    "$$\\texttt{curl https://bootstrap.pypa.io/get-pip.py -o get-pip.py}$$"
   ]
  },
  {
   "cell_type": "markdown",
   "id": "9b9e1b54-4b83-449a-ad0c-c4876d6e2738",
   "metadata": {},
   "source": [
    "then type the following in your terminal to install pip:"
   ]
  },
  {
   "cell_type": "markdown",
   "id": "a3bb72a1-ee68-4767-a414-35c91d61043f",
   "metadata": {},
   "source": [
    "$$\\texttt{python3 get-pip.py}$$"
   ]
  },
  {
   "cell_type": "markdown",
   "id": "602400f1-3d43-4095-b385-17a5f632eb34",
   "metadata": {},
   "source": [
    "## Installation guide for python packages commonly used in scientific computing:"
   ]
  },
  {
   "cell_type": "markdown",
   "id": "eb147bd6-0ea7-4538-9c8f-8314039afb35",
   "metadata": {},
   "source": [
    "For a graphic user interface for running python and for ease of sharing code, we recommend using jupyter notebooks $\\texttt{(.ipynb)}$"
   ]
  },
  {
   "cell_type": "markdown",
   "id": "a4cfe962-b892-4fd7-8725-583d5724d987",
   "metadata": {},
   "source": [
    "You can download it via the following command in your terminal:"
   ]
  },
  {
   "cell_type": "markdown",
   "id": "95e132c4-244f-40b6-851a-ce5405688c48",
   "metadata": {},
   "source": [
    "$$\\texttt{pip install notebook}$$"
   ]
  },
  {
   "cell_type": "markdown",
   "id": "ab47b162-6fda-4e5c-b4ae-0efe6b9cb1b1",
   "metadata": {},
   "source": [
    "To launch the jupyter notebook on your computer, type the following in your terminal:"
   ]
  },
  {
   "cell_type": "markdown",
   "id": "51c28591-d736-40dc-85de-17769ce8278d",
   "metadata": {},
   "source": [
    "$$\\texttt{jupyter notebook}$$"
   ]
  },
  {
   "cell_type": "markdown",
   "id": "1b2a61ce-2d8e-4ea2-a144-c8812a91bae5",
   "metadata": {},
   "source": [
    "It will pop up a page automatically most times in your default browser"
   ]
  },
  {
   "cell_type": "markdown",
   "id": "249c3791-f8ac-403d-8504-bde53468ecdd",
   "metadata": {},
   "source": [
    "#### For working with arrays, we recommend using numpy, a package for dealing with large list of numbers in very fast ways and low memory utilization.\n",
    "#### For working with basic data analysis, we recommend using scipy, a package that has pre-built tools for t-tests, hypothesis testing, and other statistical tools\n",
    "#### For downloading and viewing large datasets as tables, we recommend pandas, a package that supports methods to easily query data from tables"
   ]
  },
  {
   "cell_type": "markdown",
   "id": "cc77e00c-7cfc-4027-aa8a-19726bab0565",
   "metadata": {},
   "source": [
    "You can download it via the following command in the terminal:"
   ]
  },
  {
   "cell_type": "markdown",
   "id": "d531e9b9-9f02-41f7-8fdd-08265bd41973",
   "metadata": {},
   "source": [
    "$$\\texttt{pip install numpy scipy pandas}$$"
   ]
  },
  {
   "cell_type": "code",
   "execution_count": null,
   "id": "b5d8a9ac-9e60-46a9-8be4-ab112941ae57",
   "metadata": {},
   "outputs": [],
   "source": []
  }
 ],
 "metadata": {
  "kernelspec": {
   "display_name": "lab",
   "language": "python",
   "name": "lab"
  },
  "language_info": {
   "codemirror_mode": {
    "name": "ipython",
    "version": 3
   },
   "file_extension": ".py",
   "mimetype": "text/x-python",
   "name": "python",
   "nbconvert_exporter": "python",
   "pygments_lexer": "ipython3",
   "version": "3.7.10"
  }
 },
 "nbformat": 4,
 "nbformat_minor": 5
}
