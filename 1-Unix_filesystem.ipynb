{
 "cells": [
  {
   "cell_type": "markdown",
   "id": "aa4d6e72-f9bc-4c42-b66c-987dd6c09bf3",
   "metadata": {},
   "source": [
    "All modern day computer operating systems are based on UNIX. But there are two main ones that have a mutually intelligible language, namely the MacOS and Linux (e.g. Ubuntu, RedHat, Linux Mint, Arch, Fedora)."
   ]
  },
  {
   "cell_type": "markdown",
   "id": "2c9ad952-d529-48d2-96b6-dc153eb76bd1",
   "metadata": {},
   "source": [
    "mkdir rm"
   ]
  },
  {
   "cell_type": "markdown",
   "id": "2e814dca-b53f-4a49-9721-88eb764b6838",
   "metadata": {},
   "source": [
    "### Vim as a text editor within terminal, and creating"
   ]
  },
  {
   "cell_type": "markdown",
   "id": "9840901b-4ca3-431a-8259-a986e9c63dcb",
   "metadata": {},
   "source": [
    "Vim is a built in terminal editing tool. It is fast and has low memory overhead. To open a text file and edit within the terminal, simply type"
   ]
  },
  {
   "cell_type": "markdown",
   "id": "f8f5fea9-c09e-4552-a68e-c37e3064c92c",
   "metadata": {},
   "source": [
    "$\\texttt{vim [filename]}$"
   ]
  },
  {
   "cell_type": "markdown",
   "id": "3b78d597-519d-455b-899c-c3aecc9316c8",
   "metadata": {},
   "source": [
    "you can navigate with the arrow keys and when you want to edit, press i"
   ]
  },
  {
   "cell_type": "markdown",
   "id": "d096fe14-0aa5-4136-9b5e-23bf3412a3cd",
   "metadata": {},
   "source": [
    "to save and exit, press $\\texttt{esc, :wq and enter}$"
   ]
  },
  {
   "cell_type": "markdown",
   "id": "2d678f4d-4b97-4b4a-9b93-5473f0661857",
   "metadata": {},
   "source": [
    "### Unix directory structure"
   ]
  },
  {
   "cell_type": "markdown",
   "id": "f54e7b15-2898-40fd-83c0-004ab70a6c00",
   "metadata": {},
   "source": [
    "In Unix, . means you're in your current directory (folder), .. means the parent directory of your current directory. ~ means your home directory and / means your root directory."
   ]
  },
  {
   "cell_type": "markdown",
   "id": "d4c087f8-adce-4067-83dc-13337ef66038",
   "metadata": {},
   "source": [
    "### cd (change directory) and mkdir (make directory)"
   ]
  },
  {
   "cell_type": "markdown",
   "id": "d744a375-7efd-46b0-98c0-a21b3348b64d",
   "metadata": {},
   "source": [
    "On your mac, when you first open terminal, you are by default in your home directory (~). To change where your working directory is, first list all files in your current directory with $\\texttt{ls}$. Then pick a directory to change into. e.g. $\\texttt{cd [directory1]}$. When you type $\\texttt{ls}$ again, you'll see all files within directory 1."
   ]
  },
  {
   "cell_type": "markdown",
   "id": "af99ea9f-d207-43a0-a8c4-5437ca12c650",
   "metadata": {},
   "source": [
    "To make a new directory (folder), try $\\texttt{mkdir [new_directory_name]}$."
   ]
  },
  {
   "cell_type": "markdown",
   "id": "4497663d-89d7-4a14-b396-a6117eca67f8",
   "metadata": {},
   "source": [
    "### rm (removing files or directory)"
   ]
  },
  {
   "cell_type": "markdown",
   "id": "87af74a9-b2f1-479e-9a7e-0f95005a5781",
   "metadata": {},
   "source": [
    "To remove a single file, type $\\texttt{rm [filename]}.$ To remove an entire directory, type $\\texttt{rm -rf [directory_name]}$. $\\texttt{r}$ stands for recursive removal (removing all items within this directory) and $\\texttt{f}$ forceful removal."
   ]
  },
  {
   "cell_type": "markdown",
   "id": "c1da7b1c-4dad-41ab-9673-d90a05778c20",
   "metadata": {},
   "source": [
    "## Q1"
   ]
  },
  {
   "cell_type": "markdown",
   "id": "35c50348-04de-40fe-87b7-e74da58f28c2",
   "metadata": {},
   "source": [
    "Create a directory to store all these lecture notes in your home directory (~), name the directory \"Python_bootcamp\""
   ]
  },
  {
   "cell_type": "markdown",
   "id": "01900141-0cda-4f5d-a8d4-56f79f06b17b",
   "metadata": {},
   "source": [
    "## Q2"
   ]
  },
  {
   "cell_type": "markdown",
   "id": "478bd436-7d1c-4e66-8138-cfb754b5b07e",
   "metadata": {},
   "source": [
    "Create a $\\texttt{.txt}$ file called $\\texttt{helloworld.txt}$ with your name on the first list, your UNI on the second and today's date on the third. Use vim. Simple type $\\texttt{vim helloworld.txt}$."
   ]
  },
  {
   "cell_type": "markdown",
   "id": "25922bab-594b-44e6-9da7-92bed4c37646",
   "metadata": {},
   "source": [
    "## Q3"
   ]
  },
  {
   "cell_type": "markdown",
   "id": "f44e0c6e-296b-4975-adcc-f2bd015424e5",
   "metadata": {},
   "source": [
    "Search for the line that contains the word \"UNI\". Use $\\texttt{grep -n \"UNI\" [filename]}$. For context, grep is a tool to find words quickly in a text document within your terminal. No need to open up microsoft word or pages..."
   ]
  },
  {
   "cell_type": "markdown",
   "id": "cdc89866-2dfa-407b-8b07-0b5fd22275dc",
   "metadata": {},
   "source": [
    "## Q4"
   ]
  },
  {
   "cell_type": "markdown",
   "id": "3ffe5b4c-73a6-4ae0-b85f-504f5306a19c",
   "metadata": {},
   "source": [
    "Display the file in your terminal with the command $\\texttt{cat [filename]}$"
   ]
  },
  {
   "cell_type": "code",
   "execution_count": null,
   "id": "de1d8f44-4303-419a-872b-702029b20de9",
   "metadata": {},
   "outputs": [],
   "source": []
  }
 ],
 "metadata": {
  "kernelspec": {
   "display_name": "lab",
   "language": "python",
   "name": "lab"
  },
  "language_info": {
   "codemirror_mode": {
    "name": "ipython",
    "version": 3
   },
   "file_extension": ".py",
   "mimetype": "text/x-python",
   "name": "python",
   "nbconvert_exporter": "python",
   "pygments_lexer": "ipython3",
   "version": "3.7.10"
  }
 },
 "nbformat": 4,
 "nbformat_minor": 5
}
