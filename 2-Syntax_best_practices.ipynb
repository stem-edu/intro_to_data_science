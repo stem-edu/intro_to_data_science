{
 "cells": [
  {
   "cell_type": "markdown",
   "id": "870736c0-aec1-41b2-b2ea-f2a19f001ced",
   "metadata": {},
   "source": [
    "# Basic python syntax"
   ]
  },
  {
   "cell_type": "markdown",
   "id": "5fdf2a0f-ec6c-4ccf-953d-5c1f93e1bae2",
   "metadata": {},
   "source": [
    "In general, coding is about functionality and readability. Can you read someone else's code? Is it clear to you and other people collaborating on the same project what you are trying to convey via your code?"
   ]
  },
  {
   "cell_type": "markdown",
   "id": "e69c2dca-cd46-4d5a-864b-a1e548fdc3b4",
   "metadata": {},
   "source": [
    "An example:"
   ]
  },
  {
   "cell_type": "code",
   "execution_count": 1,
   "id": "2e5bceb6-ec7c-4cd3-9b22-e6282a61c767",
   "metadata": {},
   "outputs": [],
   "source": [
    "x= 1   + 2"
   ]
  },
  {
   "cell_type": "code",
   "execution_count": 2,
   "id": "985fe3c5-38d9-4377-8ee2-57d1cd0f760f",
   "metadata": {},
   "outputs": [],
   "source": [
    "y =13*  5 + 10"
   ]
  },
  {
   "cell_type": "code",
   "execution_count": 3,
   "id": "545e2652-944d-4c19-8a2b-be57af802685",
   "metadata": {},
   "outputs": [],
   "source": [
    "z=x+    y"
   ]
  },
  {
   "cell_type": "code",
   "execution_count": 4,
   "id": "77d45803-5a67-46c8-9f5e-0fdd2e8bbbac",
   "metadata": {},
   "outputs": [
    {
     "name": "stdout",
     "output_type": "stream",
     "text": [
      "78\n"
     ]
    }
   ],
   "source": [
    "print(     z)"
   ]
  },
  {
   "cell_type": "markdown",
   "id": "cb5f3701-1968-4bac-9440-852146d66ea6",
   "metadata": {},
   "source": [
    "Its quite difficult to read the above lines right? Python is not a whitespace sensitive language, meaning that no matter how many spaces you put before or after operators, the code will run. Example, look at the number of spaces before and after = sign or + - sign."
   ]
  },
  {
   "cell_type": "markdown",
   "id": "f7095b49-d9dd-4a0f-91fa-97c937b3ab7d",
   "metadata": {},
   "source": [
    "Contrast that with the following code:"
   ]
  },
  {
   "cell_type": "code",
   "execution_count": 5,
   "id": "8a2acdf7-76d0-445d-8934-f433b4e32c38",
   "metadata": {},
   "outputs": [],
   "source": [
    "x = 1 + 2"
   ]
  },
  {
   "cell_type": "code",
   "execution_count": 6,
   "id": "e0f94575-a70e-4899-a40d-8b5ef5c3e938",
   "metadata": {},
   "outputs": [],
   "source": [
    "y = (13 * 5) + 10"
   ]
  },
  {
   "cell_type": "code",
   "execution_count": 7,
   "id": "416ec98a-2c72-4e20-859c-34bbf3e0baea",
   "metadata": {},
   "outputs": [],
   "source": [
    "z = x + y"
   ]
  },
  {
   "cell_type": "code",
   "execution_count": 8,
   "id": "df31091c-586d-40f7-a789-a31a0c984636",
   "metadata": {},
   "outputs": [
    {
     "name": "stdout",
     "output_type": "stream",
     "text": [
      "78\n"
     ]
    }
   ],
   "source": [
    "print(z)"
   ]
  },
  {
   "cell_type": "markdown",
   "id": "f40d6573-d760-4033-95bc-a72d65865236",
   "metadata": {},
   "source": [
    "You can add/subtract/multiply and divide using python in the normal PEMDAS order. What you saw is me assigning 1 + 2 to the variable x and (13 * 5) + 10 to the variable y. Finally, I added x to y and stored it in z and printed the result. Code should read like English."
   ]
  },
  {
   "cell_type": "markdown",
   "id": "b62ff723-1a3a-4f6a-9b53-4f95007c0384",
   "metadata": {},
   "source": [
    "Python supports other math operations like powers. You can use the ** operation to denote ^ operation."
   ]
  },
  {
   "cell_type": "code",
   "execution_count": 9,
   "id": "03192e0b-6cc0-4a33-974b-70baaddd1ebf",
   "metadata": {},
   "outputs": [],
   "source": [
    "power = 2**10"
   ]
  },
  {
   "cell_type": "code",
   "execution_count": 10,
   "id": "331af634-c45a-482a-b491-863d2ab04378",
   "metadata": {},
   "outputs": [
    {
     "name": "stdout",
     "output_type": "stream",
     "text": [
      "1024\n"
     ]
    }
   ],
   "source": [
    "print(power)"
   ]
  },
  {
   "cell_type": "markdown",
   "id": "9c3b2887-8056-42a0-83ba-1efce502dfad",
   "metadata": {},
   "source": [
    "## Data types"
   ]
  },
  {
   "cell_type": "markdown",
   "id": "c8929b4d-ade3-4823-b4cf-044b1e9ea0a9",
   "metadata": {},
   "source": [
    "### Float vs integer"
   ]
  },
  {
   "cell_type": "markdown",
   "id": "726183bc-1b2b-45b0-a780-5cb35c075cb8",
   "metadata": {},
   "source": [
    "A float is a number with decimal points (e.g. 3.1415....) while an integer has no decimal (e.g. 10).  "
   ]
  },
  {
   "cell_type": "code",
   "execution_count": 14,
   "id": "9f1fe0ec-e7ce-4b7e-9930-53cd0466b733",
   "metadata": {},
   "outputs": [
    {
     "data": {
      "text/plain": [
       "3.3333333333333335"
      ]
     },
     "execution_count": 14,
     "metadata": {},
     "output_type": "execute_result"
    }
   ],
   "source": [
    "10 / 3"
   ]
  },
  {
   "cell_type": "markdown",
   "id": "1f559cb4-1b37-4ae4-8490-42af3cc50c5c",
   "metadata": {},
   "source": [
    "For the most part, we will be dealing with floats and integers when working with data."
   ]
  },
  {
   "cell_type": "markdown",
   "id": "07b55070-495c-414f-bc0c-b2c63cdf1f1e",
   "metadata": {},
   "source": [
    "### String"
   ]
  },
  {
   "cell_type": "markdown",
   "id": "278f4e3c-7090-42c2-a5ab-5ddc2e81e0f9",
   "metadata": {},
   "source": [
    "A string is just a string of characters, or in English words"
   ]
  },
  {
   "cell_type": "markdown",
   "id": "dc807b6b-5cd6-4e36-84eb-ebe0c01e8f7e",
   "metadata": {},
   "source": [
    "\"Apple\" is a string, \"Fruits\" is a string, \"Person\" is a string. String need to be enclosed in double quotes (both open and closed quotation marks)"
   ]
  },
  {
   "cell_type": "markdown",
   "id": "5b24ccb9-b07d-40fe-b39e-602228cc192b",
   "metadata": {},
   "source": [
    "You can assign strings to variables just like you can assign numbers to variables "
   ]
  },
  {
   "cell_type": "code",
   "execution_count": 17,
   "id": "2c388a8c-b6b9-46cf-81fd-e9e6f4bf3bd0",
   "metadata": {},
   "outputs": [],
   "source": [
    "Fruit = \"apple\"\n",
    "Color = \"green\""
   ]
  },
  {
   "cell_type": "code",
   "execution_count": 19,
   "id": "d1012d13-4529-4849-b3bd-c4dd8bccb0aa",
   "metadata": {},
   "outputs": [
    {
     "name": "stdout",
     "output_type": "stream",
     "text": [
      "green apple\n"
     ]
    }
   ],
   "source": [
    "print(Color + \" \" + Fruit)"
   ]
  },
  {
   "cell_type": "markdown",
   "id": "8a8cb60c-8f0e-4a61-b4df-744a83b020f9",
   "metadata": {},
   "source": [
    "The + operator when applied to strings, concatenates them to form 1 string."
   ]
  },
  {
   "cell_type": "code",
   "execution_count": 20,
   "id": "e8694fe0-734b-430a-9cb9-dc7fee6e1191",
   "metadata": {},
   "outputs": [],
   "source": [
    "Color = \"black\"\n",
    "Footwear = \"Sandals\""
   ]
  },
  {
   "cell_type": "code",
   "execution_count": 27,
   "id": "a7c8232c-b807-454e-b164-a7292558fd9a",
   "metadata": {},
   "outputs": [
    {
     "name": "stdout",
     "output_type": "stream",
     "text": [
      "black               Sandals\n"
     ]
    }
   ],
   "source": [
    "print(Color + \"               \" + Footwear)"
   ]
  },
  {
   "cell_type": "markdown",
   "id": "85d9b840-0cdf-4523-b3fa-508175a0d6f6",
   "metadata": {},
   "source": [
    "## Operators"
   ]
  },
  {
   "cell_type": "markdown",
   "id": "22039bdc-e3b5-44fb-8bb1-5aa6287143a7",
   "metadata": {},
   "source": [
    "Aside from the basic arithmetic operators, python also has logical and assignment operators. The equal sign in python does not mean equals, it is the assignment operator to assign some value to a variable."
   ]
  },
  {
   "cell_type": "code",
   "execution_count": 28,
   "id": "a9700c27-91af-41f3-84bf-c326a2e94cd9",
   "metadata": {},
   "outputs": [],
   "source": [
    "a = 5"
   ]
  },
  {
   "cell_type": "code",
   "execution_count": 29,
   "id": "7e7dcbee-b03f-47c0-bdf5-4e7fb0c11f74",
   "metadata": {},
   "outputs": [
    {
     "name": "stdout",
     "output_type": "stream",
     "text": [
      "5\n"
     ]
    }
   ],
   "source": [
    "print(a)"
   ]
  },
  {
   "cell_type": "code",
   "execution_count": 40,
   "id": "0df40b60-a791-42b8-b0b9-b4dd094d77fa",
   "metadata": {},
   "outputs": [],
   "source": [
    "a = a + 1"
   ]
  },
  {
   "cell_type": "code",
   "execution_count": 41,
   "id": "58199867-cd12-4998-986c-e4283d86a3a5",
   "metadata": {},
   "outputs": [],
   "source": [
    "a += 1"
   ]
  },
  {
   "cell_type": "markdown",
   "id": "6aee8379-06b1-462a-a8c7-bbc0bd2817a6",
   "metadata": {},
   "source": [
    "Although the above statement makes 0 mathematical sense, in programming, it reads: take a and add 1 to it and store it in the variable a."
   ]
  },
  {
   "cell_type": "markdown",
   "id": "c558e2ab-7fad-4b49-82eb-8a4da6bb9efc",
   "metadata": {},
   "source": [
    "so the result should be 6"
   ]
  },
  {
   "cell_type": "code",
   "execution_count": 42,
   "id": "2c2e66c9-7c50-4fb8-a419-c09fd967f909",
   "metadata": {},
   "outputs": [
    {
     "name": "stdout",
     "output_type": "stream",
     "text": [
      "12\n"
     ]
    }
   ],
   "source": [
    "print(a)"
   ]
  },
  {
   "cell_type": "markdown",
   "id": "7a8f71e2-6ded-43dc-b4a5-34c6d79c1783",
   "metadata": {},
   "source": [
    "### Logical operators"
   ]
  },
  {
   "cell_type": "markdown",
   "id": "3109d84b-e17c-4715-a34a-235c392a694e",
   "metadata": {},
   "source": [
    "OR, AND, EQUALS, NOT EQUALS, GREATER THAN, LESS THAN are all logical operators. These comparisons return a True or False value"
   ]
  },
  {
   "cell_type": "code",
   "execution_count": 23,
   "id": "b8abaefe-7c27-4871-912d-fbd0520ccb14",
   "metadata": {},
   "outputs": [
    {
     "data": {
      "text/plain": [
       "False"
      ]
     },
     "execution_count": 23,
     "metadata": {},
     "output_type": "execute_result"
    }
   ],
   "source": [
    "1 > 2"
   ]
  },
  {
   "cell_type": "code",
   "execution_count": 24,
   "id": "3ef3cf77-60c8-4478-8c5d-96acff60589f",
   "metadata": {},
   "outputs": [
    {
     "data": {
      "text/plain": [
       "False"
      ]
     },
     "execution_count": 24,
     "metadata": {},
     "output_type": "execute_result"
    }
   ],
   "source": [
    "2 >= 3"
   ]
  },
  {
   "cell_type": "code",
   "execution_count": 25,
   "id": "285e4672-4410-4f9c-a14e-5b4162b39b50",
   "metadata": {},
   "outputs": [
    {
     "data": {
      "text/plain": [
       "True"
      ]
     },
     "execution_count": 25,
     "metadata": {},
     "output_type": "execute_result"
    }
   ],
   "source": [
    "3 <= 10"
   ]
  },
  {
   "cell_type": "markdown",
   "id": "801c8ed7-6112-4498-abbd-0baf28c37bfc",
   "metadata": {},
   "source": [
    "When comparing if two numbers are equal, use the == operator"
   ]
  },
  {
   "cell_type": "code",
   "execution_count": 26,
   "id": "e3625823-af05-4e32-8411-40c35bdcea20",
   "metadata": {},
   "outputs": [
    {
     "data": {
      "text/plain": [
       "True"
      ]
     },
     "execution_count": 26,
     "metadata": {},
     "output_type": "execute_result"
    }
   ],
   "source": [
    "2 == 2"
   ]
  },
  {
   "cell_type": "code",
   "execution_count": 27,
   "id": "e3b97a31-002e-462d-9c06-4b48b3193e71",
   "metadata": {},
   "outputs": [
    {
     "data": {
      "text/plain": [
       "False"
      ]
     },
     "execution_count": 27,
     "metadata": {},
     "output_type": "execute_result"
    }
   ],
   "source": [
    "2 == 10"
   ]
  },
  {
   "cell_type": "markdown",
   "id": "d78ca0ad-bae2-4e45-958d-2806c88ef1f6",
   "metadata": {},
   "source": [
    "When comparing if two numbers are not equal, use the != operator"
   ]
  },
  {
   "cell_type": "code",
   "execution_count": 28,
   "id": "57f3d53a-2dee-4124-88d3-1c5cd9424430",
   "metadata": {},
   "outputs": [
    {
     "data": {
      "text/plain": [
       "True"
      ]
     },
     "execution_count": 28,
     "metadata": {},
     "output_type": "execute_result"
    }
   ],
   "source": [
    "2 != 10"
   ]
  },
  {
   "cell_type": "markdown",
   "id": "af8689be-e9cc-4686-bd22-f8ffef3c437a",
   "metadata": {},
   "source": [
    "A OR B will return true if either A or B are true. If A and B are both true, it will still return true. The OR operator has the | symbol."
   ]
  },
  {
   "cell_type": "code",
   "execution_count": 9,
   "id": "5fe56730-a5f3-4956-b1e2-e6068a46b2e4",
   "metadata": {},
   "outputs": [
    {
     "data": {
      "text/plain": [
       "False"
      ]
     },
     "execution_count": 9,
     "metadata": {},
     "output_type": "execute_result"
    }
   ],
   "source": [
    "False | False"
   ]
  },
  {
   "cell_type": "code",
   "execution_count": 10,
   "id": "246bdd84-e715-4e73-a6b5-3d602aa70575",
   "metadata": {},
   "outputs": [
    {
     "data": {
      "text/plain": [
       "True"
      ]
     },
     "execution_count": 10,
     "metadata": {},
     "output_type": "execute_result"
    }
   ],
   "source": [
    "False | True"
   ]
  },
  {
   "cell_type": "code",
   "execution_count": 11,
   "id": "6c75a757-e8ea-4655-9644-de883ea9dfe9",
   "metadata": {},
   "outputs": [
    {
     "data": {
      "text/plain": [
       "True"
      ]
     },
     "execution_count": 11,
     "metadata": {},
     "output_type": "execute_result"
    }
   ],
   "source": [
    "True | False"
   ]
  },
  {
   "cell_type": "code",
   "execution_count": 12,
   "id": "458d01ca-76ce-459d-98b3-ec945fb9ee84",
   "metadata": {},
   "outputs": [
    {
     "data": {
      "text/plain": [
       "True"
      ]
     },
     "execution_count": 12,
     "metadata": {},
     "output_type": "execute_result"
    }
   ],
   "source": [
    "True | True"
   ]
  },
  {
   "cell_type": "code",
   "execution_count": 46,
   "id": "fe282bcf-d078-4b47-91af-bdd7f9a72820",
   "metadata": {},
   "outputs": [
    {
     "data": {
      "text/plain": [
       "1"
      ]
     },
     "execution_count": 46,
     "metadata": {},
     "output_type": "execute_result"
    }
   ],
   "source": [
    "1 & 1"
   ]
  },
  {
   "cell_type": "markdown",
   "id": "3d013ab1-ad5e-43d5-b22c-2b714cbfefd2",
   "metadata": {},
   "source": [
    "A AND B will return true only if both A and B are true"
   ]
  },
  {
   "cell_type": "code",
   "execution_count": 13,
   "id": "39d81327-39fb-4cbf-bc0e-153c0d9c6e69",
   "metadata": {},
   "outputs": [
    {
     "data": {
      "text/plain": [
       "False"
      ]
     },
     "execution_count": 13,
     "metadata": {},
     "output_type": "execute_result"
    }
   ],
   "source": [
    "False & False"
   ]
  },
  {
   "cell_type": "code",
   "execution_count": 14,
   "id": "4905c0b4-83e9-4ac0-bad4-3b1b96cad5f9",
   "metadata": {},
   "outputs": [
    {
     "data": {
      "text/plain": [
       "False"
      ]
     },
     "execution_count": 14,
     "metadata": {},
     "output_type": "execute_result"
    }
   ],
   "source": [
    "False & True"
   ]
  },
  {
   "cell_type": "code",
   "execution_count": 15,
   "id": "56372621-3dcc-4bd5-a2f7-98ab3f735c9a",
   "metadata": {},
   "outputs": [
    {
     "data": {
      "text/plain": [
       "False"
      ]
     },
     "execution_count": 15,
     "metadata": {},
     "output_type": "execute_result"
    }
   ],
   "source": [
    "True & False"
   ]
  },
  {
   "cell_type": "code",
   "execution_count": 16,
   "id": "4ab20877-2368-4814-b88b-544abfd4fe82",
   "metadata": {},
   "outputs": [
    {
     "data": {
      "text/plain": [
       "True"
      ]
     },
     "execution_count": 16,
     "metadata": {},
     "output_type": "execute_result"
    }
   ],
   "source": [
    "True & True"
   ]
  },
  {
   "cell_type": "markdown",
   "id": "3d2e25dd-b8d5-4b18-8daa-8444c8b9f2e6",
   "metadata": {},
   "source": [
    "### Q1"
   ]
  },
  {
   "cell_type": "markdown",
   "id": "7fdcb85c-6f9f-4d0c-a457-cd18a76d14f8",
   "metadata": {},
   "source": [
    "Given the following conditions:"
   ]
  },
  {
   "cell_type": "code",
   "execution_count": 47,
   "id": "2521654b-cd46-49de-8f73-f0a6bd0f0186",
   "metadata": {},
   "outputs": [],
   "source": [
    "A = True\n",
    "B = False"
   ]
  },
  {
   "cell_type": "markdown",
   "id": "6137e8cc-ea12-4b19-9c1c-f39689c7bced",
   "metadata": {},
   "source": [
    "a) Evaluate (A OR B) AND A using python"
   ]
  },
  {
   "cell_type": "code",
   "execution_count": 48,
   "id": "076f0434-0681-4f44-b0fd-a6c5ec01d1e4",
   "metadata": {},
   "outputs": [
    {
     "data": {
      "text/plain": [
       "True"
      ]
     },
     "execution_count": 48,
     "metadata": {},
     "output_type": "execute_result"
    }
   ],
   "source": [
    "(A | B ) & A"
   ]
  },
  {
   "cell_type": "code",
   "execution_count": 50,
   "id": "3b6d05ff-3591-49ee-91a8-b20dd46c4120",
   "metadata": {},
   "outputs": [
    {
     "data": {
      "text/plain": [
       "True"
      ]
     },
     "execution_count": 50,
     "metadata": {},
     "output_type": "execute_result"
    }
   ],
   "source": [
    "(A or B) and A"
   ]
  },
  {
   "cell_type": "markdown",
   "id": "5c9da13d-d278-4577-8219-ffd7d4905907",
   "metadata": {},
   "source": [
    "b) Then Evaluate A OR (B AND A) using python"
   ]
  },
  {
   "cell_type": "code",
   "execution_count": 49,
   "id": "c2ead227-209a-4a98-8650-7a479928ba00",
   "metadata": {},
   "outputs": [
    {
     "data": {
      "text/plain": [
       "True"
      ]
     },
     "execution_count": 49,
     "metadata": {},
     "output_type": "execute_result"
    }
   ],
   "source": [
    "A | (B & A)"
   ]
  },
  {
   "cell_type": "code",
   "execution_count": 51,
   "id": "f8aab8ad-70c8-423b-bcde-566579e80b05",
   "metadata": {},
   "outputs": [
    {
     "data": {
      "text/plain": [
       "True"
      ]
     },
     "execution_count": 51,
     "metadata": {},
     "output_type": "execute_result"
    }
   ],
   "source": [
    "A or (B and A)"
   ]
  },
  {
   "cell_type": "markdown",
   "id": "f7acda02-f83a-4b42-a20b-e177f6592de3",
   "metadata": {},
   "source": [
    "c) What do you notice from your answer in a) and b). Are they the same? This is called the associative property of logic."
   ]
  },
  {
   "cell_type": "markdown",
   "id": "1eb6c5a3-7e7e-4f6f-941f-2b3980d895a7",
   "metadata": {},
   "source": [
    "### Q2"
   ]
  },
  {
   "cell_type": "code",
   "execution_count": 21,
   "id": "400dc809-8e07-4959-b4cb-9ae94220316c",
   "metadata": {},
   "outputs": [],
   "source": [
    "A = False\n",
    "B = True"
   ]
  },
  {
   "cell_type": "markdown",
   "id": "343eb086-4a24-47ad-8ef4-29c0ec675c13",
   "metadata": {},
   "source": [
    "a) Evaluate A OR (A AND B)"
   ]
  },
  {
   "cell_type": "markdown",
   "id": "a586f2ca-fe37-4419-9266-a6ebec0c7e75",
   "metadata": {},
   "source": [
    "b) Evaluate (A OR A) AND (A OR B)"
   ]
  },
  {
   "cell_type": "markdown",
   "id": "2ea6c013-56d6-49f3-9913-dfb24a2e9b96",
   "metadata": {},
   "source": [
    "c) What do you notice from your answer in a) and b). Are they the same? This is called the distributive property of logic"
   ]
  },
  {
   "cell_type": "markdown",
   "id": "bc2329de-ed76-44ee-ab8a-724d7fc4261b",
   "metadata": {},
   "source": [
    "### Q3"
   ]
  },
  {
   "cell_type": "markdown",
   "id": "4aae7b64-d86f-4d29-8535-d1f7ecee234b",
   "metadata": {},
   "source": [
    "Arrange and concatenate these words as a string (including appropriate spaces between words) to make a grammatical and sensical sentence and store the string in the variable full_sentence_string. Print it."
   ]
  },
  {
   "cell_type": "code",
   "execution_count": 23,
   "id": "e9118a84-9ce3-4258-863a-ebfd2dc263c9",
   "metadata": {},
   "outputs": [],
   "source": [
    "a = \"very\"\n",
    "b = \"eager\"\n",
    "c = \"My\"\n",
    "d = \"pizzas\"\n",
    "e = \"mother\"\n",
    "f = \"nine\"\n",
    "g = \"just\"\n",
    "h = \"us\"\n",
    "i = \"served\""
   ]
  },
  {
   "cell_type": "markdown",
   "id": "5394cc21-278b-4d7b-81ad-fb2a256a9d45",
   "metadata": {},
   "source": [
    "Only use the following operators: +, \"\", =, print"
   ]
  },
  {
   "cell_type": "code",
   "execution_count": null,
   "id": "0f8e4975-015d-44a3-b49d-cd111053ea86",
   "metadata": {},
   "outputs": [],
   "source": []
  }
 ],
 "metadata": {
  "kernelspec": {
   "display_name": "lab",
   "language": "python",
   "name": "lab"
  },
  "language_info": {
   "codemirror_mode": {
    "name": "ipython",
    "version": 3
   },
   "file_extension": ".py",
   "mimetype": "text/x-python",
   "name": "python",
   "nbconvert_exporter": "python",
   "pygments_lexer": "ipython3",
   "version": "3.7.10"
  }
 },
 "nbformat": 4,
 "nbformat_minor": 5
}
