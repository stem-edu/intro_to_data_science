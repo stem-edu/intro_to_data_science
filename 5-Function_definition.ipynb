{
 "cells": [
  {
   "cell_type": "markdown",
   "id": "5ca22dd8-372d-4a84-b62f-f7734dcdacd6",
   "metadata": {},
   "source": [
    "# Functions in python"
   ]
  },
  {
   "cell_type": "markdown",
   "id": "77a74eb4-dc6a-462f-82d8-442298731848",
   "metadata": {},
   "source": [
    "Functions in python or in mathematics require two things, arguments and the function definition itself. A simple mathematics example:"
   ]
  },
  {
   "cell_type": "markdown",
   "id": "bfcdd6f6-e35d-4c35-8106-438b91ec2cb8",
   "metadata": {},
   "source": [
    "$$ f(x,y) = x^2 + y^2 $$ "
   ]
  },
  {
   "cell_type": "markdown",
   "id": "bb3a13c5-8251-4bb1-b27d-c2d204e90c5a",
   "metadata": {},
   "source": [
    "The argument to this function f is x and y, those are the inputs"
   ]
  },
  {
   "cell_type": "markdown",
   "id": "71999c0f-87bf-4860-897b-de808a763f0b",
   "metadata": {},
   "source": [
    "The definition is $x^2+y^2$, without which we do not know what the output would be."
   ]
  },
  {
   "cell_type": "markdown",
   "id": "760370aa-e26b-4777-b0bf-773270f1934b",
   "metadata": {},
   "source": [
    "Same in python and the syntax for writing a function that takes two inputs x and y and spits out the above output is written in python code below:"
   ]
  },
  {
   "cell_type": "code",
   "execution_count": 1,
   "id": "c5f17870-030c-4693-8926-dd5b486bdd8d",
   "metadata": {},
   "outputs": [],
   "source": [
    "def f(x,y):\n",
    "    return x**2 + y**2"
   ]
  },
  {
   "cell_type": "code",
   "execution_count": 4,
   "id": "83dfa003-e79a-44fb-862b-ad032adbcef5",
   "metadata": {},
   "outputs": [
    {
     "data": {
      "text/plain": [
       "5"
      ]
     },
     "execution_count": 4,
     "metadata": {},
     "output_type": "execute_result"
    }
   ],
   "source": [
    "f(1,2)"
   ]
  },
  {
   "cell_type": "markdown",
   "id": "29d5b1df-e8df-4502-80e0-83c682f6294b",
   "metadata": {},
   "source": [
    "Note that in function definition, indentation matters. Anything that belongs in the function has to be indendent once with the 'tab' button"
   ]
  },
  {
   "cell_type": "markdown",
   "id": "17e47457-fc2e-42b5-8b59-39c8026d003b",
   "metadata": {},
   "source": [
    "We could write a more complex function. That prints out some text along with returning the value. "
   ]
  },
  {
   "cell_type": "code",
   "execution_count": 5,
   "id": "9662feb5-1617-4e8e-86f4-8efae94c332f",
   "metadata": {},
   "outputs": [],
   "source": [
    "def f(x,y):\n",
    "    z = x**2 + y**2\n",
    "    print(\"The function output of x^2 + y^2 is: \", z)\n",
    "    return z"
   ]
  },
  {
   "cell_type": "code",
   "execution_count": 6,
   "id": "7e9d3720-5a1c-4714-a7f8-0f17726f22b7",
   "metadata": {},
   "outputs": [
    {
     "name": "stdout",
     "output_type": "stream",
     "text": [
      "The function output of x^2 + y^2 is:  5\n"
     ]
    },
    {
     "data": {
      "text/plain": [
       "5"
      ]
     },
     "execution_count": 6,
     "metadata": {},
     "output_type": "execute_result"
    }
   ],
   "source": [
    "f(1,2)"
   ]
  },
  {
   "cell_type": "markdown",
   "id": "d5b3d2bf-118d-4560-be96-537c8f28e86d",
   "metadata": {},
   "source": [
    "Pay attention to the difference between return and print. \"return\" means to store the value of the calculation/output in the function's place. But print will simply output the value in the terminal, nothing is stored. "
   ]
  },
  {
   "cell_type": "markdown",
   "id": "c70db00e-5564-466f-b3bc-41b1c58c9e18",
   "metadata": {},
   "source": [
    "Let's take the original function definition f(x,y):"
   ]
  },
  {
   "cell_type": "code",
   "execution_count": 8,
   "id": "8fe53ebb-cdc3-4f3c-8522-51eec9580e49",
   "metadata": {},
   "outputs": [],
   "source": [
    "def f(x,y):\n",
    "    return x**2 + y**2"
   ]
  },
  {
   "cell_type": "markdown",
   "id": "e859e56e-5ba6-446c-8463-502339ca0c69",
   "metadata": {},
   "source": [
    "If i tried doing the following, what would i get?"
   ]
  },
  {
   "cell_type": "code",
   "execution_count": 9,
   "id": "3058ef3c-af79-47ae-b4bc-9110e0fcdfb7",
   "metadata": {},
   "outputs": [
    {
     "data": {
      "text/plain": [
       "30"
      ]
     },
     "execution_count": 9,
     "metadata": {},
     "output_type": "execute_result"
    }
   ],
   "source": [
    "f(1,2) + f(3,4)"
   ]
  },
  {
   "cell_type": "markdown",
   "id": "ef876ef8-cc84-446e-a97e-f4b42c2b9b86",
   "metadata": {},
   "source": [
    "When the value of 1^2+2^2 is returned, it is stored in the place of f(1,2) and similarly 3^2+4^2 is stored in f(3,4). The result is then added and shown in the output."
   ]
  },
  {
   "cell_type": "markdown",
   "id": "815cb101-0757-45f9-85d6-c63a22b5e823",
   "metadata": {},
   "source": [
    "Example, how do we write function that prints out the items in a list line by line? We know how to write a for loop, but can we pass a list as an argument into a function? YES"
   ]
  },
  {
   "cell_type": "code",
   "execution_count": 10,
   "id": "88d032e1-803e-49ef-a1bd-681cda90b7d3",
   "metadata": {},
   "outputs": [],
   "source": [
    "def print_item_from_list(x):\n",
    "    for item in x:\n",
    "        print(item)"
   ]
  },
  {
   "cell_type": "code",
   "execution_count": 12,
   "id": "a1edc6df-6b58-4b8c-9a07-5a065b6c91fe",
   "metadata": {},
   "outputs": [],
   "source": [
    "some_list = [4, 5, 6, 7, 8]"
   ]
  },
  {
   "cell_type": "code",
   "execution_count": 14,
   "id": "0e49930d-4cc3-42ec-a970-7fb4e2d9d75e",
   "metadata": {},
   "outputs": [
    {
     "name": "stdout",
     "output_type": "stream",
     "text": [
      "4\n",
      "5\n",
      "6\n",
      "7\n",
      "8\n"
     ]
    }
   ],
   "source": [
    "print_item_from_list(some_list)"
   ]
  },
  {
   "cell_type": "code",
   "execution_count": 15,
   "id": "298dfa32-5ae2-4e23-8432-f5433d27b3a2",
   "metadata": {},
   "outputs": [
    {
     "name": "stdout",
     "output_type": "stream",
     "text": [
      "1\n",
      "2\n",
      "3\n"
     ]
    }
   ],
   "source": [
    "print_item_from_list([1,2,3])"
   ]
  },
  {
   "cell_type": "code",
   "execution_count": 11,
   "id": "31b3f387-445e-44d8-9b93-f144945d8306",
   "metadata": {},
   "outputs": [],
   "source": [
    "another_list = [9, 10, 11]"
   ]
  },
  {
   "cell_type": "markdown",
   "id": "7209cb28-077c-4f3d-9767-14affa9ca743",
   "metadata": {},
   "source": [
    "### Q1"
   ]
  },
  {
   "cell_type": "markdown",
   "id": "edce2182-5fee-47f3-b94b-174259fea3e2",
   "metadata": {},
   "source": [
    "Write the function distance(x1, y1, x2, y2) that takes four int or float values x1, y1, x2, y2 that represent the two points (x1, y1) and (x2, y2), and returns the distance between those points as a float. (CMU 15-112 programming homework)"
   ]
  },
  {
   "cell_type": "code",
   "execution_count": 12,
   "id": "6c95d375-41e2-478f-aef2-521696103231",
   "metadata": {},
   "outputs": [],
   "source": [
    "def distance(x1, y1, x2, y2):\n",
    "    return sqrt((x1 - y1)**2 + (x2 - y2)**2)"
   ]
  },
  {
   "cell_type": "markdown",
   "id": "5c92f424-c4be-4605-b98e-48ea87d2408f",
   "metadata": {},
   "source": [
    "### Q2"
   ]
  },
  {
   "cell_type": "markdown",
   "id": "437c8b86-058e-4caf-9ee7-44bba7c81425",
   "metadata": {},
   "source": [
    " Write the function isPalindromicNumber(n) that takes a non-negative int n and returns True if that number is palindromic and False otherwise, where a palindromic number is the same forwards as backwards. For example, these numbers are palindromic: 0, 1, 99, 12321, 123321, and these numbers are not: 1211, 112, 10010. "
   ]
  },
  {
   "cell_type": "markdown",
   "id": "4188f201-7438-43d5-b424-962cb64e0ba6",
   "metadata": {},
   "source": [
    "A hint. One cannot access individual digits in a multi digit number in python. However, if we converted the number to string, we can access individual digits like in a list. Use the str() function"
   ]
  },
  {
   "cell_type": "code",
   "execution_count": 13,
   "id": "6fbd0098-42e3-4e0b-8447-57a22f12ab8e",
   "metadata": {},
   "outputs": [
    {
     "data": {
      "text/plain": [
       "'1000'"
      ]
     },
     "execution_count": 13,
     "metadata": {},
     "output_type": "execute_result"
    }
   ],
   "source": [
    "str(1000)"
   ]
  },
  {
   "cell_type": "code",
   "execution_count": 48,
   "id": "1e471b4f-c732-42c5-92ea-3c21dfbbd804",
   "metadata": {},
   "outputs": [],
   "source": [
    "def isPalindromicNumber(n):\n",
    "    string = str(n)\n",
    "    value = True\n",
    "    for i in range(0, len(string)):\n",
    "        value = (value and (string[i] == string[-(i+1)]))\n",
    "    return value"
   ]
  },
  {
   "cell_type": "code",
   "execution_count": 52,
   "id": "6dbe6b31-8161-4e01-9ee1-0805fefdc9a4",
   "metadata": {},
   "outputs": [
    {
     "data": {
      "text/plain": [
       "False"
      ]
     },
     "execution_count": 52,
     "metadata": {},
     "output_type": "execute_result"
    }
   ],
   "source": [
    "isPalindromicNumber(133321)"
   ]
  },
  {
   "cell_type": "markdown",
   "id": "9a1a1d4e-f428-4bf4-96cf-1db87a67b3db",
   "metadata": {},
   "source": [
    "Alternatively, you can use a return state to return the for loop and exit the function. A for loop exits when the return statement is run"
   ]
  },
  {
   "cell_type": "code",
   "execution_count": 39,
   "id": "c15c49f8-8439-4bf9-a100-0122b4c932b5",
   "metadata": {},
   "outputs": [],
   "source": [
    "def isPalindromicNumber(n):\n",
    "    string = str(n)\n",
    "    for i in range(0, len(string)):\n",
    "        if (string[i] != string[-(i+1)]):\n",
    "            return False\n",
    "    return True"
   ]
  },
  {
   "cell_type": "code",
   "execution_count": 46,
   "id": "940e4049-dc11-4462-937b-c82de04300ae",
   "metadata": {},
   "outputs": [
    {
     "data": {
      "text/plain": [
       "False"
      ]
     },
     "execution_count": 46,
     "metadata": {},
     "output_type": "execute_result"
    }
   ],
   "source": [
    "isPalindromicNumber(1211)"
   ]
  },
  {
   "cell_type": "markdown",
   "id": "395ae89c-269c-4dd2-9bc2-50a91fb76b07",
   "metadata": {},
   "source": [
    "### Q3"
   ]
  },
  {
   "cell_type": "markdown",
   "id": "8a3d841f-a578-4453-8a1d-f1fa7c619c4e",
   "metadata": {},
   "source": [
    "Write a function factorial(n) to calculate the factorial of integer n using a for loop. A factorial as you recall of 5 is 5 * 4 * 3 * 2 * 1 and the factorial of 10 is 10 * 9 * 8 * 7 * 6 * 5 * 4 * 3 * 2 * 1. "
   ]
  },
  {
   "cell_type": "code",
   "execution_count": 17,
   "id": "79abfc5a-09c0-4bd8-8a5b-8777c12ff450",
   "metadata": {},
   "outputs": [],
   "source": [
    "def factorial(n):\n",
    "    product = 1\n",
    "    for i in range(1, n + 1):\n",
    "        product = product * i \n",
    "    return product"
   ]
  },
  {
   "cell_type": "code",
   "execution_count": 18,
   "id": "27e733e1-fab2-4a43-a37c-c2192bb67efc",
   "metadata": {},
   "outputs": [
    {
     "data": {
      "text/plain": [
       "3628800"
      ]
     },
     "execution_count": 18,
     "metadata": {},
     "output_type": "execute_result"
    }
   ],
   "source": [
    "factorial(10)"
   ]
  }
 ],
 "metadata": {
  "kernelspec": {
   "display_name": "lab",
   "language": "python",
   "name": "lab"
  },
  "language_info": {
   "codemirror_mode": {
    "name": "ipython",
    "version": 3
   },
   "file_extension": ".py",
   "mimetype": "text/x-python",
   "name": "python",
   "nbconvert_exporter": "python",
   "pygments_lexer": "ipython3",
   "version": "3.7.10"
  }
 },
 "nbformat": 4,
 "nbformat_minor": 5
}
