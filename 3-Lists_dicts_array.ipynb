{
 "cells": [
  {
   "cell_type": "markdown",
   "id": "b4eb4de5-cb4d-4d6e-b71d-872f418ee2f7",
   "metadata": {},
   "source": [
    "# Simple guide to python data structures"
   ]
  },
  {
   "cell_type": "markdown",
   "id": "b7ebf60a-86e4-4632-8346-7cfb0611970a",
   "metadata": {},
   "source": [
    "## Dictionary"
   ]
  },
  {
   "cell_type": "markdown",
   "id": "64ce8ed9-f51a-4d1d-8dd9-b0aa94e83b7a",
   "metadata": {},
   "source": [
    "Data structures are methods of storing data to aid retrieval and storage cost"
   ]
  },
  {
   "cell_type": "markdown",
   "id": "cab6ac15-9017-4235-b182-c1672491db47",
   "metadata": {},
   "source": [
    "Imagine a dictionary where words are sorted alphabetically. It is quite easy to search for the definition of an unknown word by going thorugh the dictionary alphabetically."
   ]
  },
  {
   "cell_type": "markdown",
   "id": "2265e505-68ea-4677-91f2-d324c17eeca8",
   "metadata": {},
   "source": [
    "Same in python, but most of the time, a dictionary is not alphabetical, but rather it is simply arranged in so-called key-value pairs"
   ]
  },
  {
   "cell_type": "markdown",
   "id": "d773319b-548a-4188-962b-65f356d0c177",
   "metadata": {},
   "source": [
    "For example, suppose columbia stored every student's info into a dictionary"
   ]
  },
  {
   "cell_type": "code",
   "execution_count": 3,
   "id": "1f949ee3-2ee6-42ce-892f-357e3f583f7a",
   "metadata": {},
   "outputs": [],
   "source": [
    "Student = {\n",
    "    \"age\": 18,\n",
    "    'name': 'Peter',\n",
    "    'height': 70,\n",
    "    'UNI': 'ab1234'\n",
    "}"
   ]
  },
  {
   "cell_type": "code",
   "execution_count": 2,
   "id": "bfe80614-8ee7-42ed-943e-6b4cbb41325f",
   "metadata": {},
   "outputs": [
    {
     "data": {
      "text/plain": [
       "{'age': 18, 'name': 'Peter', 'height': '70', 'UNI': 'ab1234'}"
      ]
     },
     "execution_count": 2,
     "metadata": {},
     "output_type": "execute_result"
    }
   ],
   "source": [
    "Student"
   ]
  },
  {
   "cell_type": "markdown",
   "id": "59e171e1-5815-42bf-8ab8-0e7a56a543dd",
   "metadata": {},
   "source": [
    "To access this dictionary called student, we can do the following"
   ]
  },
  {
   "cell_type": "code",
   "execution_count": 7,
   "id": "ae33a729-bd43-43f0-9477-d563206b1ce3",
   "metadata": {},
   "outputs": [
    {
     "data": {
      "text/plain": [
       "'Peter'"
      ]
     },
     "execution_count": 7,
     "metadata": {},
     "output_type": "execute_result"
    }
   ],
   "source": [
    "Student['name']"
   ]
  },
  {
   "cell_type": "code",
   "execution_count": 8,
   "id": "b758f698-1497-4262-ab72-60594c89814a",
   "metadata": {},
   "outputs": [
    {
     "data": {
      "text/plain": [
       "'70'"
      ]
     },
     "execution_count": 8,
     "metadata": {},
     "output_type": "execute_result"
    }
   ],
   "source": [
    "Student['height']"
   ]
  },
  {
   "cell_type": "markdown",
   "id": "49e12285-bb55-478e-9677-4fd2a42a8328",
   "metadata": {},
   "source": [
    "To change let's say the student's name from Peter to John, we can run the following:"
   ]
  },
  {
   "cell_type": "code",
   "execution_count": 4,
   "id": "63001e19-248b-4ca1-a9d0-5bc4606bbf5e",
   "metadata": {},
   "outputs": [],
   "source": [
    "Student['name'] = 'John'"
   ]
  },
  {
   "cell_type": "code",
   "execution_count": 5,
   "id": "52cd865c-0bd1-4660-90c9-662f5b88c6be",
   "metadata": {},
   "outputs": [
    {
     "data": {
      "text/plain": [
       "{'age': 18, 'name': 'John', 'height': '70', 'UNI': 'ab1234'}"
      ]
     },
     "execution_count": 5,
     "metadata": {},
     "output_type": "execute_result"
    }
   ],
   "source": [
    "Student"
   ]
  },
  {
   "cell_type": "markdown",
   "id": "3d1839f8-8fd1-44e6-9153-d55d61cde329",
   "metadata": {},
   "source": [
    "All other info is unchanged"
   ]
  },
  {
   "cell_type": "markdown",
   "id": "d28feeb4-256e-4135-8711-d4b4e794313f",
   "metadata": {},
   "source": [
    "You can also add info into this dictionary, for instance, i want to add his dorm name."
   ]
  },
  {
   "cell_type": "code",
   "execution_count": 6,
   "id": "7b86f37f-cd87-4265-99b7-2b59784440b4",
   "metadata": {},
   "outputs": [],
   "source": [
    "Student['dorm'] = 'John Jay'"
   ]
  },
  {
   "cell_type": "code",
   "execution_count": 7,
   "id": "8b9e10bd-1297-43d1-a8e8-85d4a562bc49",
   "metadata": {},
   "outputs": [
    {
     "data": {
      "text/plain": [
       "{'age': 18,\n",
       " 'name': 'John',\n",
       " 'height': '70',\n",
       " 'UNI': 'ab1234',\n",
       " 'dorm': 'John Jay'}"
      ]
     },
     "execution_count": 7,
     "metadata": {},
     "output_type": "execute_result"
    }
   ],
   "source": [
    "Student"
   ]
  },
  {
   "cell_type": "markdown",
   "id": "dc94de4f-a4d5-41d9-a8a1-f5f47c29a67c",
   "metadata": {},
   "source": [
    "## Lists"
   ]
  },
  {
   "cell_type": "markdown",
   "id": "7ca1b45f-b6b3-438b-954c-79bd4059404e",
   "metadata": {},
   "source": [
    "A list is a list of numbers or strings or a mix of both or even other data types (beyond scope of the course)."
   ]
  },
  {
   "cell_type": "code",
   "execution_count": 9,
   "id": "72903409-3597-4303-a19a-a04e60a79e1d",
   "metadata": {},
   "outputs": [],
   "source": [
    "my_list = [2, 3, \"five\", \"seven\", 11, 13]"
   ]
  },
  {
   "cell_type": "markdown",
   "id": "bf3c6eba-c2bb-4bf9-afb6-a01e57a51701",
   "metadata": {},
   "source": [
    "For example, my_list above contains my favorite prime numbers, but some of them are numbers and others in integers"
   ]
  },
  {
   "cell_type": "markdown",
   "id": "d8534836-5aa1-4ac4-b894-83e934fa50b9",
   "metadata": {},
   "source": [
    "To access contents of this list, we can use the following notation. The first item in the list can be accessed "
   ]
  },
  {
   "cell_type": "code",
   "execution_count": 13,
   "id": "ada84391-c934-4a0a-b813-eb5ed2035012",
   "metadata": {},
   "outputs": [
    {
     "data": {
      "text/plain": [
       "2"
      ]
     },
     "execution_count": 13,
     "metadata": {},
     "output_type": "execute_result"
    }
   ],
   "source": [
    "my_list[0]"
   ]
  },
  {
   "cell_type": "markdown",
   "id": "dd3c2ec6-f2da-4b5a-b6fc-442c21b91a1a",
   "metadata": {},
   "source": [
    "The second"
   ]
  },
  {
   "cell_type": "code",
   "execution_count": 14,
   "id": "d4170532-af4f-4cd8-addf-149bc7aaa819",
   "metadata": {},
   "outputs": [
    {
     "data": {
      "text/plain": [
       "3"
      ]
     },
     "execution_count": 14,
     "metadata": {},
     "output_type": "execute_result"
    }
   ],
   "source": [
    "my_list[1]"
   ]
  },
  {
   "cell_type": "markdown",
   "id": "d0b3c5e0-35b2-4be8-b329-14ed70f0f13e",
   "metadata": {},
   "source": [
    "The third"
   ]
  },
  {
   "cell_type": "code",
   "execution_count": 15,
   "id": "2550e77e-d811-4982-b4c7-cfdd5431b03c",
   "metadata": {},
   "outputs": [
    {
     "data": {
      "text/plain": [
       "'five'"
      ]
     },
     "execution_count": 15,
     "metadata": {},
     "output_type": "execute_result"
    }
   ],
   "source": [
    "my_list[2]"
   ]
  },
  {
   "cell_type": "markdown",
   "id": "da75f00b-60c7-49a6-86a4-b548ea66db3b",
   "metadata": {},
   "source": [
    "The last"
   ]
  },
  {
   "cell_type": "code",
   "execution_count": 16,
   "id": "58b06c4e-68ee-4512-963a-e4d206d794cd",
   "metadata": {},
   "outputs": [
    {
     "data": {
      "text/plain": [
       "13"
      ]
     },
     "execution_count": 16,
     "metadata": {},
     "output_type": "execute_result"
    }
   ],
   "source": [
    "my_list[-1]"
   ]
  },
  {
   "cell_type": "markdown",
   "id": "5574aacc-f902-45e2-b2e1-8139dcdfd97d",
   "metadata": {},
   "source": [
    "The second to last"
   ]
  },
  {
   "cell_type": "code",
   "execution_count": 18,
   "id": "dcb25193-0367-4069-8569-11821ab7b082",
   "metadata": {},
   "outputs": [
    {
     "data": {
      "text/plain": [
       "11"
      ]
     },
     "execution_count": 18,
     "metadata": {},
     "output_type": "execute_result"
    }
   ],
   "source": [
    "my_list[-2]"
   ]
  },
  {
   "cell_type": "markdown",
   "id": "3a778018-7a97-453b-8c46-4d193c52d035",
   "metadata": {},
   "source": [
    "you can also stored it in other variables or print it "
   ]
  },
  {
   "cell_type": "code",
   "execution_count": 19,
   "id": "bdbbb125-aec2-4c0f-adf6-8c852415b630",
   "metadata": {},
   "outputs": [],
   "source": [
    "some_number = my_list[3]"
   ]
  },
  {
   "cell_type": "code",
   "execution_count": 20,
   "id": "5f063490-c0fc-4f9b-8a8e-92c9f1b47039",
   "metadata": {},
   "outputs": [
    {
     "name": "stdout",
     "output_type": "stream",
     "text": [
      "seven\n"
     ]
    }
   ],
   "source": [
    "print(some_number)"
   ]
  },
  {
   "cell_type": "markdown",
   "id": "fe8779a7-8f0a-47c7-9c31-574fb62457e3",
   "metadata": {},
   "source": [
    "To expand my list of favorite prime numbers, i can use the built in append function for lists."
   ]
  },
  {
   "cell_type": "code",
   "execution_count": 10,
   "id": "79af8490-1f0e-4f88-b90e-309b9d1f703b",
   "metadata": {},
   "outputs": [],
   "source": [
    "my_list.append(17)"
   ]
  },
  {
   "cell_type": "code",
   "execution_count": 11,
   "id": "a9729685-903d-455c-8e14-16f78552c980",
   "metadata": {},
   "outputs": [
    {
     "data": {
      "text/plain": [
       "[2, 3, 'five', 'seven', 11, 13, 17]"
      ]
     },
     "execution_count": 11,
     "metadata": {},
     "output_type": "execute_result"
    }
   ],
   "source": [
    "my_list"
   ]
  },
  {
   "cell_type": "code",
   "execution_count": 12,
   "id": "0e9e4233-6873-4824-9d03-77d00a58219b",
   "metadata": {},
   "outputs": [],
   "source": [
    "my_list.append(19)"
   ]
  },
  {
   "cell_type": "code",
   "execution_count": 13,
   "id": "9f64c321-634a-4474-aec7-4063dc154860",
   "metadata": {},
   "outputs": [
    {
     "data": {
      "text/plain": [
       "[2, 3, 'five', 'seven', 11, 13, 17, 19]"
      ]
     },
     "execution_count": 13,
     "metadata": {},
     "output_type": "execute_result"
    }
   ],
   "source": [
    "my_list"
   ]
  },
  {
   "cell_type": "markdown",
   "id": "0a8e78cd-540d-4914-bce4-fe1d2745a85c",
   "metadata": {},
   "source": [
    "What if we want to concatenate two lists together?"
   ]
  },
  {
   "cell_type": "code",
   "execution_count": 14,
   "id": "3851c080-ba5b-4ca5-9d4f-73c8a7c4b5e6",
   "metadata": {},
   "outputs": [],
   "source": [
    "another_list = [23, 29, 31]"
   ]
  },
  {
   "cell_type": "code",
   "execution_count": 15,
   "id": "fa09a753-1dad-4595-9153-817d52f84aca",
   "metadata": {},
   "outputs": [
    {
     "data": {
      "text/plain": [
       "[2, 3, 'five', 'seven', 11, 13, 17, 19, 23, 29, 31]"
      ]
     },
     "execution_count": 15,
     "metadata": {},
     "output_type": "execute_result"
    }
   ],
   "source": [
    "my_list + another_list"
   ]
  },
  {
   "cell_type": "markdown",
   "id": "518270ac-1f17-4a49-9743-523def934b55",
   "metadata": {},
   "source": [
    "In python, strings also act like a list of characters. For example"
   ]
  },
  {
   "cell_type": "code",
   "execution_count": 16,
   "id": "0165c3ef-1eb1-4475-8497-646f6eaf9a4a",
   "metadata": {},
   "outputs": [],
   "source": [
    "example_string = \"Python\""
   ]
  },
  {
   "cell_type": "code",
   "execution_count": 17,
   "id": "1097714f-67f8-40be-8bd7-1a3fce099a26",
   "metadata": {},
   "outputs": [
    {
     "data": {
      "text/plain": [
       "'P'"
      ]
     },
     "execution_count": 17,
     "metadata": {},
     "output_type": "execute_result"
    }
   ],
   "source": [
    "example_string[0]"
   ]
  },
  {
   "cell_type": "code",
   "execution_count": 18,
   "id": "e555b767-1e0e-43a2-9b64-0558a570fc48",
   "metadata": {},
   "outputs": [
    {
     "data": {
      "text/plain": [
       "'y'"
      ]
     },
     "execution_count": 18,
     "metadata": {},
     "output_type": "execute_result"
    }
   ],
   "source": [
    "example_string[1]"
   ]
  },
  {
   "cell_type": "code",
   "execution_count": 19,
   "id": "823577e1-0f2f-4eb9-b415-8ef83ed40397",
   "metadata": {},
   "outputs": [
    {
     "data": {
      "text/plain": [
       "'n'"
      ]
     },
     "execution_count": 19,
     "metadata": {},
     "output_type": "execute_result"
    }
   ],
   "source": [
    "example_string[-1]"
   ]
  },
  {
   "cell_type": "code",
   "execution_count": 32,
   "id": "bdb6558b-5d91-4490-9db3-e0b83cae2e6b",
   "metadata": {},
   "outputs": [
    {
     "data": {
      "text/plain": [
       "False"
      ]
     },
     "execution_count": 32,
     "metadata": {},
     "output_type": "execute_result"
    }
   ],
   "source": [
    "example_string[0] == example_string[-1]"
   ]
  },
  {
   "cell_type": "markdown",
   "id": "813e5444-ba43-4a64-8d1b-02b55ab55280",
   "metadata": {},
   "source": [
    "### Q1"
   ]
  },
  {
   "cell_type": "markdown",
   "id": "a7378c68-1ce6-40d8-a089-d26ea00d44b3",
   "metadata": {},
   "source": [
    "The len() function is very useful for showing the length of a list or string. "
   ]
  },
  {
   "cell_type": "code",
   "execution_count": 20,
   "id": "eacd9419-638f-41a1-8b93-b63cd0a2586c",
   "metadata": {},
   "outputs": [],
   "source": [
    "big_list = [2, 3, 'five', 'seven', 11, 13, 17, 19, 23, 29, 31]"
   ]
  },
  {
   "cell_type": "markdown",
   "id": "b60beec9-e907-45b6-90ac-0add78f1ac8f",
   "metadata": {},
   "source": [
    "a) What is the length of this array big_list?"
   ]
  },
  {
   "cell_type": "code",
   "execution_count": 21,
   "id": "ba405a92-0f7d-4122-974b-a356d193e585",
   "metadata": {},
   "outputs": [
    {
     "data": {
      "text/plain": [
       "11"
      ]
     },
     "execution_count": 21,
     "metadata": {},
     "output_type": "execute_result"
    }
   ],
   "source": [
    "len(big_list)"
   ]
  },
  {
   "cell_type": "markdown",
   "id": "06c891db-adfd-449b-8849-b3c488be98e0",
   "metadata": {},
   "source": [
    "b) Which index has strings instead of integers in big_list?"
   ]
  },
  {
   "cell_type": "code",
   "execution_count": 22,
   "id": "1a82c4ab-883e-4731-b0b8-d8aeef6c6879",
   "metadata": {},
   "outputs": [],
   "source": [
    "# 2, 3"
   ]
  },
  {
   "cell_type": "markdown",
   "id": "ebd7ab82-6180-45bb-b39d-e9f350237d47",
   "metadata": {},
   "source": [
    "c) For the item 'seven' in big list, what index is the character 'e'?"
   ]
  },
  {
   "cell_type": "code",
   "execution_count": 23,
   "id": "465844e5-f2cf-4d89-8941-fcda25f7dec2",
   "metadata": {},
   "outputs": [],
   "source": [
    "# 1, 3"
   ]
  },
  {
   "cell_type": "markdown",
   "id": "358e981d-443a-4d97-ab64-ff6d4aed1c46",
   "metadata": {},
   "source": [
    "d) What about 'five', what index is the character 'i'?"
   ]
  },
  {
   "cell_type": "code",
   "execution_count": null,
   "id": "2935f713-bac2-4797-88e6-cb737f729f2c",
   "metadata": {},
   "outputs": [],
   "source": [
    "# 1"
   ]
  },
  {
   "cell_type": "markdown",
   "id": "9d15fad3-2d8b-44f5-80df-ca8fc1478d47",
   "metadata": {},
   "source": [
    "### Q2"
   ]
  },
  {
   "cell_type": "code",
   "execution_count": 13,
   "id": "16488bff-bdeb-4dc2-bb07-371167f29dab",
   "metadata": {},
   "outputs": [],
   "source": [
    "Student = {\n",
    "    'age': 18,\n",
    "    'name': 'Peter',\n",
    "    'height': '70',\n",
    "    'UNI': 'ab1234'\n",
    "}"
   ]
  },
  {
   "cell_type": "markdown",
   "id": "04ca073a-c459-4859-b6f1-7485485b2934",
   "metadata": {},
   "source": [
    "Let's say I want to add an extra description of this person's mood. Call the key 'mood', and this person is 'happy' and change his age to 24. "
   ]
  },
  {
   "cell_type": "markdown",
   "id": "1df8327d-600c-4a1e-ae78-302696ed2375",
   "metadata": {},
   "source": [
    "### Q3"
   ]
  },
  {
   "cell_type": "code",
   "execution_count": 1,
   "id": "073d3175-49c2-434c-8c2b-9e869f326cc3",
   "metadata": {},
   "outputs": [],
   "source": [
    "big_list = [2, 3, 'five', 'seven', 11, 13, 17, 19, 23, 29, 31]"
   ]
  },
  {
   "cell_type": "markdown",
   "id": "ae6fd419-79e4-4414-b3d3-cbefc7cb31a4",
   "metadata": {},
   "source": [
    "a) Consider the big_list again. Replace the 7th element with the same number in word form (string)."
   ]
  },
  {
   "cell_type": "markdown",
   "id": "7739bc24-6408-417c-978a-c7a084c1ecac",
   "metadata": {},
   "source": [
    "b) Append the next two prime numbers in big_list"
   ]
  },
  {
   "cell_type": "markdown",
   "id": "622ef902-a2d3-43ee-b104-7b8525f43cea",
   "metadata": {},
   "source": [
    "c) Python has a indexing notation that allows users to only take a subset of the list. For example, big_list[0:5] will only grab the first 5 elements"
   ]
  },
  {
   "cell_type": "code",
   "execution_count": 2,
   "id": "71f2cde6-ee03-4836-b964-cc12f1a5d490",
   "metadata": {},
   "outputs": [
    {
     "data": {
      "text/plain": [
       "[2, 3, 'five', 'seven', 11]"
      ]
     },
     "execution_count": 2,
     "metadata": {},
     "output_type": "execute_result"
    }
   ],
   "source": [
    "big_list[0:5]"
   ]
  },
  {
   "cell_type": "markdown",
   "id": "7b92283b-8702-40ff-a94b-303352ab45b3",
   "metadata": {},
   "source": [
    "Similarly, big_list[6:-1] will give the 6th element to the second to last element."
   ]
  },
  {
   "cell_type": "code",
   "execution_count": 5,
   "id": "152c30ab-9c0d-42ad-a335-2e6dfb46ecab",
   "metadata": {},
   "outputs": [
    {
     "data": {
      "text/plain": [
       "[17, 19, 23, 29]"
      ]
     },
     "execution_count": 5,
     "metadata": {},
     "output_type": "execute_result"
    }
   ],
   "source": [
    "big_list[6:-1]"
   ]
  },
  {
   "cell_type": "markdown",
   "id": "66e02b0c-bfde-40b8-8b4a-8521a72a1ba2",
   "metadata": {},
   "source": [
    "To include the final element, use big_list[6:]"
   ]
  },
  {
   "cell_type": "code",
   "execution_count": 7,
   "id": "0082ac91-2b52-4157-8ee9-7acd49a2ef69",
   "metadata": {},
   "outputs": [
    {
     "data": {
      "text/plain": [
       "[17, 19, 23, 29, 31]"
      ]
     },
     "execution_count": 7,
     "metadata": {},
     "output_type": "execute_result"
    }
   ],
   "source": [
    "big_list[6:]"
   ]
  },
  {
   "cell_type": "markdown",
   "id": "aedb9d20-a8df-4769-bf57-489e485eca28",
   "metadata": {},
   "source": [
    "c) Continued. Using the new big_list from part a) and b) return a concatenated list of element 1 to 5 and 7 to 9."
   ]
  },
  {
   "cell_type": "code",
   "execution_count": null,
   "id": "91f70765-39d0-4471-8565-07c598386aa0",
   "metadata": {},
   "outputs": [],
   "source": []
  }
 ],
 "metadata": {
  "kernelspec": {
   "display_name": "lab",
   "language": "python",
   "name": "lab"
  },
  "language_info": {
   "codemirror_mode": {
    "name": "ipython",
    "version": 3
   },
   "file_extension": ".py",
   "mimetype": "text/x-python",
   "name": "python",
   "nbconvert_exporter": "python",
   "pygments_lexer": "ipython3",
   "version": "3.7.10"
  }
 },
 "nbformat": 4,
 "nbformat_minor": 5
}
