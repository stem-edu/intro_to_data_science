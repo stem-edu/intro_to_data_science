{
 "cells": [
  {
   "cell_type": "markdown",
   "id": "b6dcf62c-b8c1-41e9-9db3-31e2ae9f9bdd",
   "metadata": {},
   "source": [
    "# Conditions"
   ]
  },
  {
   "cell_type": "markdown",
   "id": "e1336a9d-aa60-4d39-9000-eb5f2ea30bc0",
   "metadata": {},
   "source": [
    "In the real world, we can give people conditions and what you or they should do when the condition is satisfied."
   ]
  },
  {
   "cell_type": "markdown",
   "id": "f57cd7fc-e710-47fa-b90a-87a7ab089c2e",
   "metadata": {},
   "source": [
    "For example, if it rains, I will stay indoors. To write that in psuedocode (fake code that doesn't belong to any known programming language)"
   ]
  },
  {
   "cell_type": "markdown",
   "id": "b5d10f3e-ff6f-4a6b-bd4f-b54359631fc4",
   "metadata": {},
   "source": [
    "if (it rains): \n",
    "> I will stay indoors"
   ]
  },
  {
   "cell_type": "markdown",
   "id": "a7c0ba00-7cf4-43be-9f11-59c55addafb3",
   "metadata": {},
   "source": [
    "The condition to be tested is typically written in parentheses after the word if. In python notation, remember the colon after the condition and the indentation in the command if condition is met. Example below"
   ]
  },
  {
   "cell_type": "code",
   "execution_count": 2,
   "id": "46a2b7c5-8d00-415a-a1bd-e0074de6db36",
   "metadata": {},
   "outputs": [],
   "source": [
    "x = 10"
   ]
  },
  {
   "cell_type": "code",
   "execution_count": 4,
   "id": "dd5767f6-2a12-4dab-8911-e620056c65b0",
   "metadata": {},
   "outputs": [
    {
     "name": "stdout",
     "output_type": "stream",
     "text": [
      "x is bigger than 5\n",
      "something\n"
     ]
    }
   ],
   "source": [
    "if (x > 5):\n",
    "    print(\"x is bigger than 5\")\n",
    "    print(\"something\")"
   ]
  },
  {
   "cell_type": "code",
   "execution_count": 7,
   "id": "82733c78-e9e4-4d69-99bd-1b6cd57fa4cf",
   "metadata": {},
   "outputs": [
    {
     "name": "stdout",
     "output_type": "stream",
     "text": [
      "10\n"
     ]
    }
   ],
   "source": [
    "if False | True:\n",
    "    print(10)"
   ]
  },
  {
   "cell_type": "markdown",
   "id": "b28697f0-af1c-49e4-9c8d-f8ae0da1dbcc",
   "metadata": {},
   "source": [
    "Note, since x=10, it is indeed bigger than 5, so the condition is true, hence the indented statement is executed. Look what happens when the condition is not met."
   ]
  },
  {
   "cell_type": "code",
   "execution_count": 8,
   "id": "3248b192-17ac-4f4c-a3b4-19f7825dc638",
   "metadata": {},
   "outputs": [],
   "source": [
    "x = 3"
   ]
  },
  {
   "cell_type": "code",
   "execution_count": 9,
   "id": "04749cdd-6725-4039-a3bb-96c100609276",
   "metadata": {},
   "outputs": [],
   "source": [
    "if (x > 5):\n",
    "    print(\"x is bigger than 5\")"
   ]
  },
  {
   "cell_type": "markdown",
   "id": "80042eeb-4203-4aa4-8fe4-a318c78bf689",
   "metadata": {},
   "source": [
    "See, nothing gets printed."
   ]
  },
  {
   "cell_type": "markdown",
   "id": "65515407-83c4-4c01-960b-003d0f6bc2ab",
   "metadata": {},
   "source": [
    "## If else and elif"
   ]
  },
  {
   "cell_type": "markdown",
   "id": "a0c20b44-0a9a-4261-9987-4e91d6c4604f",
   "metadata": {},
   "source": [
    "To make the conditions more complex, we can add additional conditions and execute different commands"
   ]
  },
  {
   "cell_type": "code",
   "execution_count": 10,
   "id": "a79f8079-2acb-4519-87f8-5e0806fcb5d5",
   "metadata": {},
   "outputs": [],
   "source": [
    "Shirt = \"green\""
   ]
  },
  {
   "cell_type": "code",
   "execution_count": 11,
   "id": "8d733b00-5aaa-4164-a980-8d2f95202a5a",
   "metadata": {},
   "outputs": [
    {
     "name": "stdout",
     "output_type": "stream",
     "text": [
      "Wear a red tie\n"
     ]
    }
   ],
   "source": [
    "if (Shirt == \"green\"):\n",
    "    print(\"Wear a red tie\")\n",
    "elif (Shirt == \"blue\"):\n",
    "    print(\"Wear a green tie\")"
   ]
  },
  {
   "cell_type": "code",
   "execution_count": 12,
   "id": "ea9f98d4-d9e0-4c34-a359-772f2041acc5",
   "metadata": {},
   "outputs": [],
   "source": [
    "Shirt = \"blue\""
   ]
  },
  {
   "cell_type": "code",
   "execution_count": 13,
   "id": "fae5ce0e-2f71-44bc-abf1-609d31f023f5",
   "metadata": {},
   "outputs": [
    {
     "name": "stdout",
     "output_type": "stream",
     "text": [
      "Wear a green tie\n"
     ]
    }
   ],
   "source": [
    "if (Shirt == \"green\"):\n",
    "    print(\"Wear a red tie\")\n",
    "elif (Shirt == \"blue\"):\n",
    "    print(\"Wear a green tie\")"
   ]
  },
  {
   "cell_type": "markdown",
   "id": "6a52a681-fb73-45c0-8e75-8e3f6f6a2b67",
   "metadata": {},
   "source": [
    "What if I am wearing a black shirt? What tie should i wear? The conditions don't specify. We'll use an else statement to capture all the other unspecified conditions"
   ]
  },
  {
   "cell_type": "code",
   "execution_count": 14,
   "id": "fe75e332-44f6-4b64-98b5-ef358b461058",
   "metadata": {},
   "outputs": [],
   "source": [
    "Shirt = \"black\""
   ]
  },
  {
   "cell_type": "code",
   "execution_count": 15,
   "id": "c1dee554-6a64-4f34-a9a3-26c3e137d5fe",
   "metadata": {},
   "outputs": [
    {
     "name": "stdout",
     "output_type": "stream",
     "text": [
      "Don't wear any tie\n"
     ]
    }
   ],
   "source": [
    "if (Shirt == \"green\"):\n",
    "    print(\"Wear a red tie\")\n",
    "elif (Shirt == \"blue\"):\n",
    "    print(\"Wear a green tie\")\n",
    "else:\n",
    "    print(\"Don't wear any tie\")"
   ]
  },
  {
   "cell_type": "markdown",
   "id": "94bdcb90-2a85-4771-8b2b-f073c9c2a1f3",
   "metadata": {},
   "source": [
    "Else statement tells what the action should be for all other conditions not specified above."
   ]
  },
  {
   "cell_type": "markdown",
   "id": "c7158da5-a64d-4ab7-b406-6795ca69d3aa",
   "metadata": {},
   "source": [
    "## Range function and for loops"
   ]
  },
  {
   "cell_type": "markdown",
   "id": "964103ab-070a-4b06-8f47-5a6c45d7d121",
   "metadata": {},
   "source": [
    "A loop is a structure to help you automate repetitve tasks"
   ]
  },
  {
   "cell_type": "markdown",
   "id": "5f7b5b6f-f32c-47ee-a9a9-711840156140",
   "metadata": {},
   "source": [
    "If I were to print out numbers from 1 to 10, I could manually writing the following:"
   ]
  },
  {
   "cell_type": "code",
   "execution_count": 16,
   "id": "ef4bc716-b0eb-4273-ad0d-2520dcc15cd3",
   "metadata": {},
   "outputs": [
    {
     "name": "stdout",
     "output_type": "stream",
     "text": [
      "1\n",
      "2\n",
      "3\n",
      "4\n",
      "5\n",
      "6\n",
      "7\n",
      "8\n",
      "9\n",
      "10\n"
     ]
    }
   ],
   "source": [
    "print(1)\n",
    "print(2)\n",
    "print(3)\n",
    "print(4)\n",
    "print(5)\n",
    "print(6)\n",
    "print(7)\n",
    "print(8)\n",
    "print(9)\n",
    "print(10)"
   ]
  },
  {
   "cell_type": "markdown",
   "id": "b156a960-7b02-4f44-b9db-c2e452da4ac4",
   "metadata": {},
   "source": [
    "Or i could be lazy and write a loop that prints the number out from 1 to 10 neatly:"
   ]
  },
  {
   "cell_type": "code",
   "execution_count": 35,
   "id": "bc8974e4-e5b5-428b-8c68-daedb10f3e6d",
   "metadata": {},
   "outputs": [
    {
     "name": "stdout",
     "output_type": "stream",
     "text": [
      "1\n",
      "2\n",
      "3\n",
      "4\n",
      "5\n",
      "6\n",
      "7\n",
      "8\n",
      "9\n",
      "10\n"
     ]
    }
   ],
   "source": [
    "for i in range(1,11):\n",
    "    print(i)"
   ]
  },
  {
   "cell_type": "markdown",
   "id": "11b952f3-a771-4dce-b0e3-73950b20eaa0",
   "metadata": {},
   "source": [
    "Range function can specify the range of numbers you are interested in when you are trying to write a loop. Note that if you want to output to be from 1 to 10, the second number in the range function has to be that number + 1"
   ]
  },
  {
   "cell_type": "markdown",
   "id": "523721b5-2cce-4751-8f98-f8b1cbdd5161",
   "metadata": {},
   "source": [
    "note that the variable i is assigned the a new number in range each time the loop is executed from 1 to 10. "
   ]
  },
  {
   "cell_type": "markdown",
   "id": "65ea0ca0-46b3-476f-b52f-2e510e83972e",
   "metadata": {},
   "source": [
    "You can also iterate over items in a list when trying to perform repetitive tasks"
   ]
  },
  {
   "cell_type": "code",
   "execution_count": 18,
   "id": "2c59ddfe-90cc-417c-9b64-a4540bb1c4cc",
   "metadata": {},
   "outputs": [],
   "source": [
    "primary_color_list = [\"red\", \"green\", \"blue\"]"
   ]
  },
  {
   "cell_type": "code",
   "execution_count": 20,
   "id": "62870849-3fe4-4a39-97de-112ae4485cd6",
   "metadata": {},
   "outputs": [
    {
     "name": "stdout",
     "output_type": "stream",
     "text": [
      "red\n",
      "green\n",
      "blue\n"
     ]
    }
   ],
   "source": [
    "for chicken in primary_color_list:\n",
    "    print(chicken)"
   ]
  },
  {
   "cell_type": "markdown",
   "id": "6496630d-3971-4725-bf44-3a2094fc1bda",
   "metadata": {},
   "source": [
    "Note, here instead of using the variable i, we use the variable color to assign a new color to it as the loop executes. Each time the loop executes, a new color from the list primary_color_list is assigned to the variable color"
   ]
  },
  {
   "cell_type": "markdown",
   "id": "598a6323-03a9-49ea-a4d9-988ee7aa6ad4",
   "metadata": {},
   "source": [
    "### Q1"
   ]
  },
  {
   "cell_type": "markdown",
   "id": "029f3e6e-54fc-4373-b0f7-15a04dd33d60",
   "metadata": {},
   "source": [
    "a) Write a loop that prints all powers of 2 up to the 16th power"
   ]
  },
  {
   "cell_type": "markdown",
   "id": "d2156a26-7ce7-46e3-8246-32d09435100a",
   "metadata": {},
   "source": [
    "b) Write a loop that prints the cumulative sum of all powers of two up to the 16th power "
   ]
  },
  {
   "cell_type": "code",
   "execution_count": 23,
   "id": "fd0719ee-9c50-4047-8de6-dfab79ad9d19",
   "metadata": {},
   "outputs": [
    {
     "name": "stdout",
     "output_type": "stream",
     "text": [
      "2\n",
      "4\n",
      "8\n",
      "16\n",
      "32\n",
      "64\n",
      "128\n",
      "256\n",
      "512\n",
      "1024\n",
      "2048\n",
      "4096\n",
      "8192\n",
      "16384\n",
      "32768\n",
      "65536\n"
     ]
    }
   ],
   "source": [
    "for i in range(1, 17):\n",
    "    print(2**i)"
   ]
  },
  {
   "cell_type": "code",
   "execution_count": 24,
   "id": "b832b47c-fa26-4177-88ea-eb9c4b6bbcdb",
   "metadata": {},
   "outputs": [
    {
     "name": "stdout",
     "output_type": "stream",
     "text": [
      "131070\n"
     ]
    }
   ],
   "source": [
    "sum = 0\n",
    "\n",
    "for i in range(1, 17):\n",
    "    sum = sum + 2**i\n",
    "    \n",
    "print(sum)"
   ]
  },
  {
   "cell_type": "markdown",
   "id": "88ea015a-13b8-417d-a4f2-25c2d0502446",
   "metadata": {},
   "source": [
    "### Q2"
   ]
  },
  {
   "cell_type": "markdown",
   "id": "4a252d89-4b68-489e-9468-f41172946a0c",
   "metadata": {},
   "source": [
    "a) Write a loop that prints only multiples of 2 from 0 to 100 (including 100). "
   ]
  },
  {
   "cell_type": "markdown",
   "id": "fe7fad05-7318-42b9-91a8-1d651737a17b",
   "metadata": {},
   "source": [
    "b) Write a loop that prints only multiples of 3 from 0 to 100 (including 100)."
   ]
  },
  {
   "cell_type": "markdown",
   "id": "2f4de1f5-bf2c-435e-9d7b-f59bf31b3ba4",
   "metadata": {},
   "source": [
    "c) Write a loop that prints numbers that are neither multiples of 2 nor 3 from 0 to 100 (including 100)."
   ]
  },
  {
   "cell_type": "markdown",
   "id": "9943c15f-12f5-40e5-9697-50866bbb35df",
   "metadata": {},
   "source": [
    "hint: To find multiples of a number use the modulus operator %. E.g. if a number is divisible by 2, the number % 2 will be equal to 0. Examples below"
   ]
  },
  {
   "cell_type": "code",
   "execution_count": 2,
   "id": "f30f9025-da84-40de-8436-41ee9abce744",
   "metadata": {},
   "outputs": [
    {
     "data": {
      "text/plain": [
       "0"
      ]
     },
     "execution_count": 2,
     "metadata": {},
     "output_type": "execute_result"
    }
   ],
   "source": [
    "(10 % 2)"
   ]
  },
  {
   "cell_type": "code",
   "execution_count": 3,
   "id": "5d4c3a03-6925-461b-bb7e-09f29e6d5d81",
   "metadata": {},
   "outputs": [
    {
     "data": {
      "text/plain": [
       "0"
      ]
     },
     "execution_count": 3,
     "metadata": {},
     "output_type": "execute_result"
    }
   ],
   "source": [
    "(4 % 2)"
   ]
  },
  {
   "cell_type": "code",
   "execution_count": 4,
   "id": "94358d5c-5228-4f91-bf63-4d6a251e0a20",
   "metadata": {},
   "outputs": [
    {
     "data": {
      "text/plain": [
       "1"
      ]
     },
     "execution_count": 4,
     "metadata": {},
     "output_type": "execute_result"
    }
   ],
   "source": [
    "(5 % 2)"
   ]
  },
  {
   "cell_type": "code",
   "execution_count": 28,
   "id": "6bde2f7c-6e2e-428f-b537-017a9a82b106",
   "metadata": {},
   "outputs": [
    {
     "name": "stdout",
     "output_type": "stream",
     "text": [
      "1\n",
      "3\n",
      "5\n",
      "7\n",
      "9\n",
      "11\n",
      "13\n",
      "15\n",
      "17\n",
      "19\n",
      "21\n",
      "23\n",
      "25\n",
      "27\n",
      "29\n",
      "31\n",
      "33\n",
      "35\n",
      "37\n",
      "39\n",
      "41\n",
      "43\n",
      "45\n",
      "47\n",
      "49\n",
      "51\n",
      "53\n",
      "55\n",
      "57\n",
      "59\n",
      "61\n",
      "63\n",
      "65\n",
      "67\n",
      "69\n",
      "71\n",
      "73\n",
      "75\n",
      "77\n",
      "79\n",
      "81\n",
      "83\n",
      "85\n",
      "87\n",
      "89\n",
      "91\n",
      "93\n",
      "95\n",
      "97\n",
      "99\n"
     ]
    }
   ],
   "source": [
    "for i in range (0,101):\n",
    "    if (i % 2):\n",
    "        print(i)"
   ]
  },
  {
   "cell_type": "code",
   "execution_count": 29,
   "id": "4e4c2aef-ff6d-453e-b1ea-b7f7c417f66e",
   "metadata": {},
   "outputs": [
    {
     "name": "stdout",
     "output_type": "stream",
     "text": [
      "0\n",
      "2\n",
      "4\n",
      "6\n",
      "8\n",
      "10\n",
      "12\n",
      "14\n",
      "16\n",
      "18\n",
      "20\n",
      "22\n",
      "24\n",
      "26\n",
      "28\n",
      "30\n",
      "32\n",
      "34\n",
      "36\n",
      "38\n",
      "40\n",
      "42\n",
      "44\n",
      "46\n",
      "48\n",
      "50\n",
      "52\n",
      "54\n",
      "56\n",
      "58\n",
      "60\n",
      "62\n",
      "64\n",
      "66\n",
      "68\n",
      "70\n",
      "72\n",
      "74\n",
      "76\n",
      "78\n",
      "80\n",
      "82\n",
      "84\n",
      "86\n",
      "88\n",
      "90\n",
      "92\n",
      "94\n",
      "96\n",
      "98\n",
      "100\n"
     ]
    }
   ],
   "source": [
    "for i in range(0, 51):\n",
    "    print(2 * i)"
   ]
  },
  {
   "cell_type": "code",
   "execution_count": 34,
   "id": "25db4dfc-b378-4921-a296-ba2c85cc0c6d",
   "metadata": {},
   "outputs": [
    {
     "name": "stdout",
     "output_type": "stream",
     "text": [
      "0\n",
      "3\n",
      "6\n",
      "9\n",
      "12\n",
      "15\n",
      "18\n",
      "21\n",
      "24\n",
      "27\n",
      "30\n",
      "33\n",
      "36\n",
      "39\n",
      "42\n",
      "45\n",
      "48\n",
      "51\n",
      "54\n",
      "57\n",
      "60\n",
      "63\n",
      "66\n",
      "69\n",
      "72\n",
      "75\n",
      "78\n",
      "81\n",
      "84\n",
      "87\n",
      "90\n",
      "93\n",
      "96\n",
      "99\n"
     ]
    }
   ],
   "source": [
    "for i in range (0,101):\n",
    "    if (i % 3 == 0):\n",
    "        print(i)"
   ]
  },
  {
   "cell_type": "code",
   "execution_count": 33,
   "id": "ec8f5dcf-b367-46de-814c-2de1cec75bd9",
   "metadata": {},
   "outputs": [
    {
     "name": "stdout",
     "output_type": "stream",
     "text": [
      "1\n",
      "5\n",
      "7\n",
      "11\n",
      "13\n",
      "17\n",
      "19\n",
      "23\n",
      "25\n",
      "29\n",
      "31\n",
      "35\n",
      "37\n",
      "41\n",
      "43\n",
      "47\n",
      "49\n",
      "53\n",
      "55\n",
      "59\n",
      "61\n",
      "65\n",
      "67\n",
      "71\n",
      "73\n",
      "77\n",
      "79\n",
      "83\n",
      "85\n",
      "89\n",
      "91\n",
      "95\n",
      "97\n"
     ]
    }
   ],
   "source": [
    "for i in range (0,101):\n",
    "    if (i % 2 != 0) and (i % 3 != 0):\n",
    "        print(i)"
   ]
  },
  {
   "cell_type": "markdown",
   "id": "19aa9d7b-68f7-4757-8f66-5c3d57115f74",
   "metadata": {},
   "source": [
    "### Q3 "
   ]
  },
  {
   "cell_type": "markdown",
   "id": "1b0e7527-a609-40c0-ad3a-eb4bb623234f",
   "metadata": {},
   "source": [
    "Write a loop to print out a truth table (the output of A (logical operator) B) by iterating through all values of A and B. A can only be a [True, False] list and B can only be a [True, False] list."
   ]
  },
  {
   "cell_type": "code",
   "execution_count": 6,
   "id": "aaac2755-1e9e-43a4-a3e5-d6468eda4bea",
   "metadata": {},
   "outputs": [],
   "source": [
    "A = [True, False]\n",
    "B = [True, False]"
   ]
  },
  {
   "cell_type": "markdown",
   "id": "7ad342bc-d4eb-453c-82c4-a2fad973413f",
   "metadata": {},
   "source": [
    "a) Evaluate A AND B"
   ]
  },
  {
   "cell_type": "markdown",
   "id": "6b5c8d74-fb7c-4a4b-8715-990b1293bdb6",
   "metadata": {},
   "source": [
    "b) Evaluate A OR B"
   ]
  },
  {
   "cell_type": "markdown",
   "id": "99d9c776-0b51-4464-92d5-114142e1f432",
   "metadata": {},
   "source": [
    "c) Evaluate (A AND B) OR A"
   ]
  },
  {
   "cell_type": "markdown",
   "id": "ce1e8b1d-0861-43d0-82e3-5b851ad3b9b9",
   "metadata": {},
   "source": [
    "d) Evaluate NOT (A OR B) AND NOT A"
   ]
  },
  {
   "cell_type": "markdown",
   "id": "0e180b78-4636-423b-a718-1774170d54ae",
   "metadata": {},
   "source": [
    "hint: remember the not command is not."
   ]
  },
  {
   "cell_type": "code",
   "execution_count": 16,
   "id": "5f2ac95a-9c7f-48d6-839a-933406613698",
   "metadata": {},
   "outputs": [
    {
     "data": {
      "text/plain": [
       "False"
      ]
     },
     "execution_count": 16,
     "metadata": {},
     "output_type": "execute_result"
    }
   ],
   "source": [
    "not True"
   ]
  },
  {
   "cell_type": "code",
   "execution_count": 17,
   "id": "03c449e4-3990-434f-bb46-344749eb12fb",
   "metadata": {},
   "outputs": [
    {
     "data": {
      "text/plain": [
       "True"
      ]
     },
     "execution_count": 17,
     "metadata": {},
     "output_type": "execute_result"
    }
   ],
   "source": [
    "not False"
   ]
  },
  {
   "cell_type": "code",
   "execution_count": 18,
   "id": "f6fd9b91-9813-4797-b3f4-71c941b83905",
   "metadata": {},
   "outputs": [
    {
     "data": {
      "text/plain": [
       "False"
      ]
     },
     "execution_count": 18,
     "metadata": {},
     "output_type": "execute_result"
    }
   ],
   "source": [
    "not (True | False)"
   ]
  },
  {
   "cell_type": "code",
   "execution_count": null,
   "id": "015b596a-8277-4ade-8444-fd02928e99f9",
   "metadata": {},
   "outputs": [],
   "source": []
  },
  {
   "cell_type": "code",
   "execution_count": null,
   "id": "9d3c051a-0bfb-4d64-8b25-5584c639474a",
   "metadata": {},
   "outputs": [],
   "source": []
  },
  {
   "cell_type": "code",
   "execution_count": null,
   "id": "0f906148-9c0e-4994-ab91-59a5595de644",
   "metadata": {},
   "outputs": [],
   "source": []
  }
 ],
 "metadata": {
  "kernelspec": {
   "display_name": "lab",
   "language": "python",
   "name": "lab"
  },
  "language_info": {
   "codemirror_mode": {
    "name": "ipython",
    "version": 3
   },
   "file_extension": ".py",
   "mimetype": "text/x-python",
   "name": "python",
   "nbconvert_exporter": "python",
   "pygments_lexer": "ipython3",
   "version": "3.7.10"
  }
 },
 "nbformat": 4,
 "nbformat_minor": 5
}
