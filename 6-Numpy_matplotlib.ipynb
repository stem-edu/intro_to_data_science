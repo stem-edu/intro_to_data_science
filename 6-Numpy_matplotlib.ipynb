{
 "cells": [
  {
   "cell_type": "markdown",
   "id": "d3062416-b577-45e8-a180-68e421def9c8",
   "metadata": {},
   "source": [
    "## Numpy"
   ]
  },
  {
   "cell_type": "code",
   "execution_count": 1,
   "id": "5a0bc0e5-c452-4ea2-a196-3d66205b7d7c",
   "metadata": {},
   "outputs": [],
   "source": [
    "import numpy as np"
   ]
  },
  {
   "cell_type": "markdown",
   "id": "5239a72a-6a82-462e-bda3-9f21621c80b7",
   "metadata": {},
   "source": [
    "Numpy array are different from lists. Numpy arrays allow you to perform element wise arithmetic"
   ]
  },
  {
   "cell_type": "code",
   "execution_count": 2,
   "id": "6a8485a4-8fe0-4904-97c6-ce2d3ef06140",
   "metadata": {},
   "outputs": [
    {
     "name": "stdout",
     "output_type": "stream",
     "text": [
      "a:  [1, 2, 3, 4]\n",
      "b:  [1 2 3 4]\n"
     ]
    }
   ],
   "source": [
    "a = [1,2,3,4] # this is a list\n",
    "print('a: ',a)\n",
    "\n",
    "b = np.array(a) # this is a numpy array\n",
    "print('b: ',b)"
   ]
  },
  {
   "cell_type": "code",
   "execution_count": 3,
   "id": "c0574113-86e2-427a-a17a-20d49a783a60",
   "metadata": {},
   "outputs": [
    {
     "data": {
      "text/plain": [
       "list"
      ]
     },
     "execution_count": 3,
     "metadata": {},
     "output_type": "execute_result"
    }
   ],
   "source": [
    "type(a)"
   ]
  },
  {
   "cell_type": "code",
   "execution_count": 4,
   "id": "42826b0e-ec1f-4a91-964f-0b7ff5175994",
   "metadata": {},
   "outputs": [
    {
     "data": {
      "text/plain": [
       "numpy.ndarray"
      ]
     },
     "execution_count": 4,
     "metadata": {},
     "output_type": "execute_result"
    }
   ],
   "source": [
    "type(b)"
   ]
  },
  {
   "cell_type": "markdown",
   "id": "070584d4-0bd1-4a4b-9354-681b36f0c142",
   "metadata": {},
   "source": [
    "## Addition"
   ]
  },
  {
   "cell_type": "code",
   "execution_count": 5,
   "id": "675dbb28-ff86-4c4d-a9ed-8e691351f30f",
   "metadata": {},
   "outputs": [
    {
     "data": {
      "text/plain": [
       "array([2, 4, 6, 8])"
      ]
     },
     "execution_count": 5,
     "metadata": {},
     "output_type": "execute_result"
    }
   ],
   "source": [
    "# adding two numpy arrays\n",
    "np.array([1,2,3,4]) + np.array([1,2,3,4])"
   ]
  },
  {
   "cell_type": "code",
   "execution_count": 6,
   "id": "11ec5966-5a27-4589-9eba-3c4793e558f2",
   "metadata": {},
   "outputs": [
    {
     "data": {
      "text/plain": [
       "[1, 2, 3, 4, 1, 2, 3, 4]"
      ]
     },
     "execution_count": 6,
     "metadata": {},
     "output_type": "execute_result"
    }
   ],
   "source": [
    "# multiplying a list\n",
    "[1,2,3,4] * 2"
   ]
  },
  {
   "cell_type": "code",
   "execution_count": 8,
   "id": "07145014-e001-4be7-bdc5-2dca2b3223d7",
   "metadata": {},
   "outputs": [
    {
     "data": {
      "text/plain": [
       "array([2, 4, 6, 8])"
      ]
     },
     "execution_count": 8,
     "metadata": {},
     "output_type": "execute_result"
    }
   ],
   "source": [
    "b * 2"
   ]
  },
  {
   "cell_type": "markdown",
   "id": "604103f2-1373-422f-acad-bf56ca69a7e2",
   "metadata": {},
   "source": [
    "## 2d array or matrix"
   ]
  },
  {
   "cell_type": "code",
   "execution_count": 10,
   "id": "eb389e49-a791-4d15-82be-4bb8451456c4",
   "metadata": {},
   "outputs": [],
   "source": [
    "a=[[1,2,3],[2,3,4]]"
   ]
  },
  {
   "cell_type": "code",
   "execution_count": 14,
   "id": "7f454d83-b2d0-42ec-887e-b4c692ff23e1",
   "metadata": {},
   "outputs": [
    {
     "data": {
      "text/plain": [
       "1"
      ]
     },
     "execution_count": 14,
     "metadata": {},
     "output_type": "execute_result"
    }
   ],
   "source": [
    "a[0][0]"
   ]
  },
  {
   "cell_type": "code",
   "execution_count": 15,
   "id": "152686ae-f5b6-4b77-8e6d-5c8ea1daf079",
   "metadata": {},
   "outputs": [
    {
     "data": {
      "text/plain": [
       "2"
      ]
     },
     "execution_count": 15,
     "metadata": {},
     "output_type": "execute_result"
    }
   ],
   "source": [
    "a[1][0]"
   ]
  },
  {
   "cell_type": "code",
   "execution_count": 17,
   "id": "e8f7fdc2-7787-4701-81df-a43bc2883a09",
   "metadata": {},
   "outputs": [
    {
     "data": {
      "text/plain": [
       "array([[1, 2, 3],\n",
       "       [4, 5, 6]])"
      ]
     },
     "execution_count": 17,
     "metadata": {},
     "output_type": "execute_result"
    }
   ],
   "source": [
    "# 2 x 3 matrix\n",
    "d1 = np.array([[1,2,3],[4,5,6]])\n",
    "d1"
   ]
  },
  {
   "cell_type": "code",
   "execution_count": 36,
   "id": "ff48c367-0ee6-43f3-b765-f70d911426e1",
   "metadata": {},
   "outputs": [
    {
     "data": {
      "text/plain": [
       "9"
      ]
     },
     "execution_count": 36,
     "metadata": {},
     "output_type": "execute_result"
    }
   ],
   "source": [
    "np.sum(d1[:, 0])"
   ]
  },
  {
   "cell_type": "code",
   "execution_count": 37,
   "id": "68e8b736-357e-43a7-af38-fdfd739cde6d",
   "metadata": {},
   "outputs": [
    {
     "data": {
      "text/plain": [
       "9"
      ]
     },
     "execution_count": 37,
     "metadata": {},
     "output_type": "execute_result"
    }
   ],
   "source": [
    "np.sum(d1[:, 2])"
   ]
  },
  {
   "cell_type": "code",
   "execution_count": 32,
   "id": "ab4c4fcd-c9b4-45d0-8714-377220b59770",
   "metadata": {},
   "outputs": [
    {
     "data": {
      "text/plain": [
       "array([ 4, 10])"
      ]
     },
     "execution_count": 32,
     "metadata": {},
     "output_type": "execute_result"
    }
   ],
   "source": [
    "d1[:, 0] + d1[:, 2]"
   ]
  },
  {
   "cell_type": "code",
   "execution_count": 33,
   "id": "4cb50f37-bb46-40b2-af28-ae8d8ee076f2",
   "metadata": {},
   "outputs": [
    {
     "data": {
      "text/plain": [
       "5"
      ]
     },
     "execution_count": 33,
     "metadata": {},
     "output_type": "execute_result"
    }
   ],
   "source": [
    "d1[1][1]"
   ]
  },
  {
   "cell_type": "code",
   "execution_count": 21,
   "id": "fe75a439-cf90-49e0-bcae-0430761f69e9",
   "metadata": {},
   "outputs": [
    {
     "data": {
      "text/plain": [
       "5"
      ]
     },
     "execution_count": 21,
     "metadata": {},
     "output_type": "execute_result"
    }
   ],
   "source": [
    "d1[1, 1]"
   ]
  },
  {
   "cell_type": "code",
   "execution_count": 28,
   "id": "ddeed3af-1187-45bd-a312-9ddaf6864ecc",
   "metadata": {},
   "outputs": [
    {
     "data": {
      "text/plain": [
       "array([1, 2, 3])"
      ]
     },
     "execution_count": 28,
     "metadata": {},
     "output_type": "execute_result"
    }
   ],
   "source": [
    "d1[0]"
   ]
  },
  {
   "cell_type": "code",
   "execution_count": 29,
   "id": "51d7fb16-2982-4922-bae7-e007a6d8da9d",
   "metadata": {},
   "outputs": [
    {
     "data": {
      "text/plain": [
       "array([1, 2, 3])"
      ]
     },
     "execution_count": 29,
     "metadata": {},
     "output_type": "execute_result"
    }
   ],
   "source": [
    "d1[0, :]"
   ]
  },
  {
   "cell_type": "code",
   "execution_count": 27,
   "id": "f4d13b68-4571-40d2-96f2-c115db6218b1",
   "metadata": {},
   "outputs": [
    {
     "data": {
      "text/plain": [
       "array([3, 6])"
      ]
     },
     "execution_count": 27,
     "metadata": {},
     "output_type": "execute_result"
    }
   ],
   "source": [
    "d1[:, 2]"
   ]
  },
  {
   "cell_type": "code",
   "execution_count": 45,
   "id": "00977db8-1f21-4fef-8e1c-08eeca0f3406",
   "metadata": {},
   "outputs": [
    {
     "data": {
      "text/plain": [
       "array([[1, 2, 3],\n",
       "       [4, 5, 6]])"
      ]
     },
     "execution_count": 45,
     "metadata": {},
     "output_type": "execute_result"
    }
   ],
   "source": [
    "# 2 x 3 matrix\n",
    "d1 = np.array([[1,2,3],[4,5,6]])\n",
    "d2 = np.array([[1,2],[3,4],[5,6]])\n",
    "\n",
    "# element-wise multiplication\n",
    "d1"
   ]
  },
  {
   "cell_type": "code",
   "execution_count": 46,
   "id": "c1f1471d-5f8d-4de8-9b8c-85b349432615",
   "metadata": {},
   "outputs": [
    {
     "data": {
      "text/plain": [
       "array([[ 1,  4,  9],\n",
       "       [16, 25, 36]])"
      ]
     },
     "execution_count": 46,
     "metadata": {},
     "output_type": "execute_result"
    }
   ],
   "source": [
    "d1 * d1 "
   ]
  },
  {
   "cell_type": "code",
   "execution_count": 47,
   "id": "630c1252-a3d9-45ef-ad09-7c16ee9a8b04",
   "metadata": {},
   "outputs": [
    {
     "data": {
      "text/plain": [
       "array([[22, 28],\n",
       "       [49, 64]])"
      ]
     },
     "execution_count": 47,
     "metadata": {},
     "output_type": "execute_result"
    }
   ],
   "source": [
    "# matrix multiplication\n",
    "d1 @ d2"
   ]
  },
  {
   "cell_type": "code",
   "execution_count": 48,
   "id": "26e262b1-2b29-4d7b-9fd2-39aa35de3b8e",
   "metadata": {},
   "outputs": [
    {
     "data": {
      "text/plain": [
       "array([[1, 2, 3],\n",
       "       [4, 5, 6]])"
      ]
     },
     "execution_count": 48,
     "metadata": {},
     "output_type": "execute_result"
    }
   ],
   "source": [
    "d1"
   ]
  },
  {
   "cell_type": "code",
   "execution_count": 42,
   "id": "79ece63a-43c9-470b-bf42-b822bf900fb5",
   "metadata": {},
   "outputs": [
    {
     "data": {
      "text/plain": [
       "array([[1, 2],\n",
       "       [3, 4],\n",
       "       [5, 6]])"
      ]
     },
     "execution_count": 42,
     "metadata": {},
     "output_type": "execute_result"
    }
   ],
   "source": [
    "d2"
   ]
  },
  {
   "cell_type": "markdown",
   "id": "167258ae-fc05-4487-890d-e2484a8236e9",
   "metadata": {},
   "source": [
    "## Linspace and arange function in numpy"
   ]
  },
  {
   "cell_type": "markdown",
   "id": "3f110b73-661f-4dba-887a-4815b7b5d225",
   "metadata": {},
   "source": [
    "We often want to generate arrays automagically. `np.linspace()` and `np.arange()` are two ways of doing this"
   ]
  },
  {
   "cell_type": "code",
   "execution_count": 64,
   "id": "3b54adcc-f476-4633-89a8-dd3f77e4f9a2",
   "metadata": {},
   "outputs": [
    {
     "data": {
      "text/plain": [
       "array([0. , 0.1, 0.2, 0.3, 0.4, 0.5, 0.6, 0.7, 0.8, 0.9, 1. ])"
      ]
     },
     "execution_count": 64,
     "metadata": {},
     "output_type": "execute_result"
    }
   ],
   "source": [
    "x1 = np.linspace(0,1,11) # split into 10\n",
    "x1"
   ]
  },
  {
   "cell_type": "code",
   "execution_count": 54,
   "id": "75f67d3f-7dc6-427e-a272-503cb7c59996",
   "metadata": {},
   "outputs": [
    {
     "data": {
      "text/plain": [
       "array([0. , 0.1, 0.2, 0.3, 0.4, 0.5, 0.6, 0.7, 0.8, 0.9, 1. ])"
      ]
     },
     "execution_count": 54,
     "metadata": {},
     "output_type": "execute_result"
    }
   ],
   "source": [
    "x2 = np.arange(0,1.1,.1) # increase by 1\n",
    "x2"
   ]
  },
  {
   "cell_type": "markdown",
   "id": "e82e6e1f-a0da-49a1-8e99-154bd445ee61",
   "metadata": {},
   "source": [
    "### Q1"
   ]
  },
  {
   "cell_type": "markdown",
   "id": "c97a0e86-8e2f-49d6-9159-d67e295cf50a",
   "metadata": {},
   "source": [
    "Use `np.arange()` to create an array of numbers from 50 to 100 with intervals of 5"
   ]
  },
  {
   "cell_type": "markdown",
   "id": "2da54f0b-befa-44ab-9201-4e14c89cbbb1",
   "metadata": {},
   "source": [
    "### Q2"
   ]
  },
  {
   "cell_type": "markdown",
   "id": "9c1193bc-0d44-46fb-9632-a98671f7a2ab",
   "metadata": {},
   "source": [
    "Use `np.linspace()` to create an array of numbers from 50 to 100 with intervals of 5"
   ]
  },
  {
   "cell_type": "markdown",
   "id": "401b6f73-795e-4621-91b9-cf5ae8604314",
   "metadata": {},
   "source": [
    "## Matplotlib"
   ]
  },
  {
   "cell_type": "code",
   "execution_count": 67,
   "id": "3906925a-3b97-46cd-ae17-2bea3a0e437b",
   "metadata": {},
   "outputs": [],
   "source": [
    "import matplotlib.pyplot as plt"
   ]
  },
  {
   "cell_type": "code",
   "execution_count": 68,
   "id": "e9423435-1381-42e3-9969-4de775ea491f",
   "metadata": {},
   "outputs": [
    {
     "name": "stdout",
     "output_type": "stream",
     "text": [
      "y_a:  [ 1.          1.39561243  1.94773404  2.71828183  3.79366789  5.29449005\n",
      "  7.3890561  10.3122585  14.3919161  20.08553692]\n",
      "y_b:  [  1.           1.94773404   3.79366789   7.3890561   14.3919161\n",
      "  28.03162489  54.59815003 106.3426754  207.12724889 403.42879349]\n"
     ]
    }
   ],
   "source": [
    "a = 0.3\n",
    "b = 0.6\n",
    "\n",
    "t = np.linspace(0,10,10)\n",
    "y_a = np.exp(a * t)\n",
    "y_b = np.exp(b * t)\n",
    "\n",
    "print('y_a: ',y_a)\n",
    "print('y_b: ',y_b)"
   ]
  },
  {
   "cell_type": "code",
   "execution_count": 70,
   "id": "ad3c1c57-b54e-4f1e-9822-041de9393137",
   "metadata": {},
   "outputs": [
    {
     "data": {
      "text/plain": [
       "Text(0, 0.5, 'y(t)')"
      ]
     },
     "execution_count": 70,
     "metadata": {},
     "output_type": "execute_result"
    },
    {
     "data": {
      "image/png": "[encoded data removed]",
      "text/plain": [
       "<Figure size 432x288 with 1 Axes>"
      ]
     },
     "metadata": {
      "needs_background": "light"
     },
     "output_type": "display_data"
    }
   ],
   "source": [
    "plt.plot(t, y_a, 'o-', color='r')\n",
    "plt.plot(t, y_b, '-.', color='b')\n",
    "plt.xlabel('Time (s)')\n",
    "plt.ylabel('y(t)')"
   ]
  },
  {
   "cell_type": "markdown",
   "id": "bfb35f16-1998-47b1-8e09-e79f52155acb",
   "metadata": {},
   "source": [
    "plt has tons of functions to make 1 figure plots. It is often used to make simple and quick plots. "
   ]
  },
  {
   "cell_type": "markdown",
   "id": "931fa6c0-a7fe-4909-a9b9-7b915fe773ad",
   "metadata": {},
   "source": [
    "To make subplots, we can use the plt.subplots function. The first argument in the function is the number of rows of plots and the second argument is the number of columns of subplots. So in the example below, we have 1 row and 2 columns of plots = 2 plots total"
   ]
  },
  {
   "cell_type": "code",
   "execution_count": 71,
   "id": "7018c19c-57e6-4985-b895-e90ad0ae4fee",
   "metadata": {},
   "outputs": [
    {
     "data": {
      "image/png": "[encoded data removed]",
      "text/plain": [
       "<Figure size 432x288 with 2 Axes>"
      ]
     },
     "metadata": {
      "needs_background": "light"
     },
     "output_type": "display_data"
    }
   ],
   "source": [
    "fig, ax = plt.subplots(1,2)"
   ]
  },
  {
   "cell_type": "markdown",
   "id": "db356d51-8b25-4860-8d55-f13df2453a6b",
   "metadata": {},
   "source": [
    "If we now look at the number of ax:"
   ]
  },
  {
   "cell_type": "code",
   "execution_count": 76,
   "id": "7819c7f1-cec7-4ea9-a4ce-c021b8ecf2a4",
   "metadata": {},
   "outputs": [
    {
     "data": {
      "text/plain": [
       "2"
      ]
     },
     "execution_count": 76,
     "metadata": {},
     "output_type": "execute_result"
    }
   ],
   "source": [
    "len(ax)"
   ]
  },
  {
   "cell_type": "markdown",
   "id": "e47bff83-a212-49ad-b725-2ca52585d4d6",
   "metadata": {},
   "source": [
    "ax[0] is the axes on the left (or the axes for the left subplot) and ax[1] is the axes for the right subplot "
   ]
  },
  {
   "cell_type": "markdown",
   "id": "6d87879f-79f9-435c-a161-b5fed347dabd",
   "metadata": {},
   "source": [
    "If i want to plot y_a(t) on the left"
   ]
  },
  {
   "cell_type": "code",
   "execution_count": 81,
   "id": "1f0d6de6-771b-4d39-afbd-1cf16080b0bf",
   "metadata": {},
   "outputs": [
    {
     "data": {
      "text/plain": [
       "Text(0.5, 0, 'Time (s)')"
      ]
     },
     "execution_count": 81,
     "metadata": {},
     "output_type": "execute_result"
    },
    {
     "data": {
      "image/png": "[encoded data removed]",
      "text/plain": [
       "<Figure size 432x288 with 2 Axes>"
      ]
     },
     "metadata": {
      "needs_background": "light"
     },
     "output_type": "display_data"
    }
   ],
   "source": [
    "fig, ax = plt.subplots(1,2, sharey=True)\n",
    "ax[0].plot(t, y_a)\n",
    "ax[1].plot(t, y_b)\n",
    "\n",
    "ax[0].set_ylabel(\"y_a(t)\")\n",
    "ax[0].set_xlabel(\"Time (s)\")\n",
    "\n",
    "ax[1].set_ylabel(\"y_b(t)\")\n",
    "ax[1].set_xlabel(\"Time (s)\")"
   ]
  },
  {
   "cell_type": "markdown",
   "id": "f32343c6-7297-4f4c-bf00-748f8fdcdd4e",
   "metadata": {},
   "source": [
    "## Q1"
   ]
  },
  {
   "cell_type": "markdown",
   "id": "9f8c6a09-a068-4777-8a4c-d65c94c8c94a",
   "metadata": {},
   "source": [
    "a) Generate an np.array of size 30 from 0 to 10. Use np.linspace or np.range. Call it x"
   ]
  },
  {
   "cell_type": "code",
   "execution_count": null,
   "id": "cdbcb77d-5cf4-4bc0-9409-7419e4e4ac88",
   "metadata": {},
   "outputs": [],
   "source": []
  },
  {
   "cell_type": "markdown",
   "id": "f03752f7-64ab-435c-94ba-9e2b13e5df07",
   "metadata": {},
   "source": [
    "b) Generate an np.array which equals x + random noise * 0.1. To generate a random array of size 30. Use the command np.random.rand(30). Call it y"
   ]
  },
  {
   "cell_type": "code",
   "execution_count": null,
   "id": "f00b6a7d-514d-4eb5-92e0-ea8763688e0e",
   "metadata": {},
   "outputs": [],
   "source": []
  },
  {
   "cell_type": "markdown",
   "id": "a3d93498-d29d-4a29-ab67-8816638a8d3f",
   "metadata": {},
   "source": [
    "c) Plot a scatter plot of x vs y. Use the plt.scatter(x,y) command. Set an appropriate title, x and y labels using the command: plt.title, plt.xlabel, plt.ylabel. Look up the syntax on google under matplotlib's website."
   ]
  },
  {
   "cell_type": "code",
   "execution_count": null,
   "id": "7bfdbd99-5a25-46a3-8c61-2740ac787d61",
   "metadata": {},
   "outputs": [],
   "source": []
  }
 ],
 "metadata": {
  "kernelspec": {
   "display_name": "lab",
   "language": "python",
   "name": "lab"
  },
  "language_info": {
   "codemirror_mode": {
    "name": "ipython",
    "version": 3
   },
   "file_extension": ".py",
   "mimetype": "text/x-python",
   "name": "python",
   "nbconvert_exporter": "python",
   "pygments_lexer": "ipython3",
   "version": "3.7.10"
  }
 },
 "nbformat": 4,
 "nbformat_minor": 5
}
